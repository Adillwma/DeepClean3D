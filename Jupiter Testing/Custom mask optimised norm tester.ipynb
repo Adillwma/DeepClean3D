{
 "cells": [
  {
   "cell_type": "code",
   "execution_count": 2,
   "metadata": {},
   "outputs": [
    {
     "ename": "ZeroDivisionError",
     "evalue": "division by zero",
     "output_type": "error",
     "traceback": [
      "\u001b[1;31m---------------------------------------------------------------------------\u001b[0m",
      "\u001b[1;31mZeroDivisionError\u001b[0m                         Traceback (most recent call last)",
      "Cell \u001b[1;32mIn[2], line 96\u001b[0m\n\u001b[0;32m     79\u001b[0m \u001b[39m\"\"\"\u001b[39;00m\n\u001b[0;32m     80\u001b[0m \u001b[39m3D recon\u001b[39;00m\n\u001b[0;32m     81\u001b[0m \n\u001b[1;32m   (...)\u001b[0m\n\u001b[0;32m     91\u001b[0m \n\u001b[0;32m     92\u001b[0m \u001b[39m\"\"\"\u001b[39;00m\n\u001b[0;32m     95\u001b[0m \u001b[39m#%% - Results\u001b[39;00m\n\u001b[1;32m---> 96\u001b[0m data_norm \u001b[39m=\u001b[39m custom_normalisation(data, reconstruction_threshold, time_dimension)\n\u001b[0;32m     97\u001b[0m data_renorm \u001b[39m=\u001b[39m custom_renormalisation(data_norm, reconstruction_threshold, time_dimension)\n\u001b[0;32m     99\u001b[0m \u001b[39mif\u001b[39;00m print_data_to_console:\n",
      "Cell \u001b[1;32mIn[2], line 57\u001b[0m, in \u001b[0;36mcustom_normalisation\u001b[1;34m(data, reconstruction_threshold, time_dimension)\u001b[0m\n\u001b[0;32m     34\u001b[0m \u001b[39mdef\u001b[39;00m \u001b[39mcustom_normalisation\u001b[39m(data, reconstruction_threshold, time_dimension\u001b[39m=\u001b[39m\u001b[39m100\u001b[39m):\n\u001b[0;32m     35\u001b[0m \u001b[39m    \u001b[39m\u001b[39m\"\"\"\u001b[39;00m\n\u001b[0;32m     36\u001b[0m \u001b[39m    # Notes   - The 0 slice problem, the recon_thresh vs 1-reconthresh problem\u001b[39;00m\n\u001b[0;32m     37\u001b[0m \n\u001b[1;32m   (...)\u001b[0m\n\u001b[0;32m     55\u001b[0m \u001b[39m   \u001b[39;00m\n\u001b[0;32m     56\u001b[0m \u001b[39m    \"\"\"\u001b[39;00m\n\u001b[1;32m---> 57\u001b[0m     data \u001b[39m=\u001b[39m ((data \u001b[39m/\u001b[39m time_dimension) \u001b[39m/\u001b[39m (\u001b[39m1\u001b[39;49m\u001b[39m/\u001b[39;49m(\u001b[39m1\u001b[39;49m\u001b[39m-\u001b[39;49mreconstruction_threshold))) \u001b[39m+\u001b[39m reconstruction_threshold\n\u001b[0;32m     58\u001b[0m     \u001b[39mfor\u001b[39;00m row \u001b[39min\u001b[39;00m data:\n\u001b[0;32m     59\u001b[0m         \u001b[39mfor\u001b[39;00m i, ipt \u001b[39min\u001b[39;00m \u001b[39menumerate\u001b[39m(row):\n",
      "\u001b[1;31mZeroDivisionError\u001b[0m: division by zero"
     ]
    }
   ],
   "source": [
    "# -*- coding: utf-8 -*-\n",
    "\"\"\"\n",
    "Custom Normalistaion/Renormalisation Tester V1.0.0\n",
    "Created on Mon Feb 26 2023\n",
    "Author: Adill Al-Ashgar\n",
    "University of Bristol   \n",
    "\n",
    "This script tests normalisation and renormalisation returns the same data as oroginal.\n",
    "also test edge cass of 0 val TOF becuas ei supsect we have created a misteak in how we encode 0 vals\n",
    "\n",
    "\n",
    "### Improvemnts to be made\n",
    "#  \n",
    "\"\"\"\n",
    "\n",
    "#%% - Dependencies\n",
    "import numpy as np\n",
    "import matplotlib.pyplot as plt\n",
    "import torch\n",
    "\n",
    "#%% - Tester \n",
    "reconstruction_threshold = 0.5\n",
    "time_dimension = 100\n",
    "print_data_to_console = True   # Default [False] \n",
    "\n",
    "# Define the size of the array\n",
    "size = int(np.sqrt(time_dimension))\n",
    "\n",
    "# Create a NumPy array with the specified size and fill it with values from 0 to 100\n",
    "data = np.arange(size ** 2).reshape(size, size)\n",
    "data[size-1][size-2] = time_dimension-1\n",
    "data[size-1][size-1] = time_dimension\n",
    "\n",
    "#%% - Functions to test\n",
    "# Special normalisation for pure masking\n",
    "def custom_mask_optimised_normalisation_torch(data, reconstruction_threshold, time_dimension=100):\n",
    "    data = np.where(data > 0, 1)\n",
    "    return data\n",
    "\n",
    "\n",
    "\n",
    "\n",
    "#%% - Results\n",
    "data_norm = custom_mask_optimised_normalisation_torch(data, reconstruction_threshold, time_dimension)\n",
    "\n",
    "if print_data_to_console:\n",
    "    print(\"\\nInput Data\\n\", data)\n",
    "    print(\"\\nNorm Data\\n\", data_norm)\n",
    "\n",
    "\n"
   ]
  }
 ],
 "metadata": {
  "kernelspec": {
   "display_name": "Python 3",
   "language": "python",
   "name": "python3"
  },
  "language_info": {
   "codemirror_mode": {
    "name": "ipython",
    "version": 3
   },
   "file_extension": ".py",
   "mimetype": "text/x-python",
   "name": "python",
   "nbconvert_exporter": "python",
   "pygments_lexer": "ipython3",
   "version": "3.10.9"
  },
  "orig_nbformat": 4
 },
 "nbformat": 4,
 "nbformat_minor": 2
}
