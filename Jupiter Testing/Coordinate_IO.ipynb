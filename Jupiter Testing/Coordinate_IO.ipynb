{
 "cells": [
  {
   "cell_type": "code",
   "execution_count": 13,
   "metadata": {},
   "outputs": [
    {
     "name": "stdout",
     "output_type": "stream",
     "text": [
      "[(0, 0), (1, 1), (4, 34), (1, 76)]\n",
      "[(0, 0), (1, 1), (1, 76), (4, 34)]\n",
      "False\n"
     ]
    }
   ],
   "source": [
    "import numpy as np\n",
    "\n",
    "# Example usage\n",
    "coordinates_list = [(0, 0), (1, 1), (1, 76), (4,34)]\n",
    "coordinates_list = coordinates_list\n",
    "grid_shape = (99, 15)  # Example shape, replace with your own dimensions\n",
    "\n",
    "def create_grid_with_coordinates(coordinates, grid_shape):\n",
    "    grid = np.zeros(grid_shape, dtype=int)\n",
    "\n",
    "    for coord in coordinates:\n",
    "        x, y = coord\n",
    "        grid[y, x] = 1\n",
    "\n",
    "    return grid\n",
    "\n",
    "grid_array = create_grid_with_coordinates(coordinates_list, grid_shape)\n",
    "\n",
    "def extract_coordinates_from_grid(grid):\n",
    "    coordinates = []\n",
    "\n",
    "    for y, row in enumerate(grid):\n",
    "        for x, value in enumerate(row):\n",
    "            if value == 1:\n",
    "                coordinates.append((x, y))\n",
    "\n",
    "    return coordinates\n",
    "\n",
    "coordinates = extract_coordinates_from_grid(grid_array)\n",
    "print(coordinates)\n",
    "\n",
    "print(coordinates_list)\n",
    "\n",
    "\n",
    "\n",
    "# Check all close coordinates to coordinates list\n",
    "print(np.allclose(coordinates_list, coordinates))\n",
    "\n",
    "\n",
    "#### ORDER CHANGES BUT ALL POINTS ARE CONSISTENTLY FOUND"
   ]
  },
  {
   "cell_type": "code",
   "execution_count": null,
   "metadata": {},
   "outputs": [],
   "source": []
  }
 ],
 "metadata": {
  "kernelspec": {
   "display_name": "Python 3",
   "language": "python",
   "name": "python3"
  },
  "language_info": {
   "codemirror_mode": {
    "name": "ipython",
    "version": 3
   },
   "file_extension": ".py",
   "mimetype": "text/x-python",
   "name": "python",
   "nbconvert_exporter": "python",
   "pygments_lexer": "ipython3",
   "version": "3.10.9"
  },
  "orig_nbformat": 4
 },
 "nbformat": 4,
 "nbformat_minor": 2
}
