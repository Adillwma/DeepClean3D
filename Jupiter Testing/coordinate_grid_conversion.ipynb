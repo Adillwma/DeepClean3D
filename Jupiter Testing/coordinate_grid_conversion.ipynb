{
 "cells": [
  {
   "cell_type": "code",
   "execution_count": 8,
   "metadata": {},
   "outputs": [],
   "source": [
    "import timeit                                   # Used in timer_function to test code execution times\n",
    "import numpy as np                              # Numerical processing library\n",
    "import matplotlib.pyplot as plt                 # Matplotlib plotting library\n",
    "from functools import partial\n",
    "\n",
    "###Helper functions \n",
    "def drag_race(number, repeats, functions, args_lists, sig_figs=3, share_args=False):\n",
    "    \"\"\"\n",
    "    Runs timeit.repeat on each function in the the input list 'functions' a specified number of times and \n",
    "    prints the minimum runtime for each func\n",
    "    \n",
    "    # Arguments:\n",
    "    number:     Number of times to run the functions per repeat.\n",
    "    repeats:    Number of times to time the function (each time function is timed it is run 'number' times).\n",
    "    functions:  The functions to be timed, in format [function_name_1, function_name_2].\n",
    "    args_lists: Arguments to pass to the functions using format [[F1-arg1, F1-arg2], [F2-arg1, F2-arg2, F2-arg3]] Unless all \n",
    "                functions take same arguments in which case pass [[shared_arg1, shared_arg2]] and then also set share_args=True.\n",
    "    sig_figs:   Sets the number of significant figures for the printed results readout [Default=3].\n",
    "    share_args: If all functions share the same argumnets then passing share_args=True allows user to only input them once and they are used for all fucntions [Default=False].\n",
    "    \n",
    "    # Returns:\n",
    "    No values are returned instead function automatically prints statment with function names and min runtimes.\n",
    "    \"\"\"\n",
    "    \n",
    "    if share_args == True:\n",
    "        args_lists = args_lists * len(functions)  # If share args is used the single set of arguments is copied for the numebr of function requiring them\n",
    "        \n",
    "    for i, function in enumerate(functions):\n",
    "        function_partial = partial(function, *args_lists[i])\n",
    "        run_times = timeit.repeat(function_partial, number=number, repeat=repeats)\n",
    "        min_time = min(run_times)/number\n",
    "\n",
    "        print(\"\\nFunction: {}\\nRuntime: {} ms (minimum result over {} runs)\".format(function.__name__, round(min_time*1000, sig_figs), repeats))"
   ]
  },
  {
   "cell_type": "code",
   "execution_count": 9,
   "metadata": {},
   "outputs": [],
   "source": [
    "### update to use csr_matrix sparse matrix format\n",
    "import numpy as np\n",
    "from scipy.sparse import coo_matrix\n"
   ]
  },
  {
   "cell_type": "code",
   "execution_count": 10,
   "metadata": {},
   "outputs": [],
   "source": [
    "def create_grid_with_coordinates(coordinates, grid_shape):\n",
    "    grid = np.zeros(grid_shape, dtype=int)\n",
    "\n",
    "    for coord in coordinates:\n",
    "        x, y = coord\n",
    "        grid[y, x] = 1\n",
    "\n",
    "    return grid\n",
    "\n",
    "def create_sparse_grid_with_coordinates(coordinates, grid_shape):\n",
    "    y_coords, x_coords = zip(*coordinates)\n",
    "    data = np.ones(len(coordinates), dtype=int)\n",
    "    grid = coo_matrix((data, (y_coords, x_coords)), shape=grid_shape)\n",
    "    return grid\n",
    "\n",
    "# Example usage\n",
    "coordinates_list = [(0, 0), (1, 1), (2, 2), (3, 4), (4, 3), (4, 4), (4, 0), (4, 1), (4, 2), (0, 4), (1, 4), (2, 4), (3, 0), (3, 1), (3, 2), (3, 3), (0, 3), (1, 3), (2, 3), (0, 1), (0, 2), (1, 0), (1, 2), (2, 0), (2, 1), ]\n",
    "grid_shape = (5, 5)  # Example shape, replace with your own dimensions\n",
    "\n",
    "\n"
   ]
  },
  {
   "cell_type": "code",
   "execution_count": 11,
   "metadata": {},
   "outputs": [
    {
     "name": "stdout",
     "output_type": "stream",
     "text": [
      "\n",
      "Function: create_grid_with_coordinates\n",
      "Runtime: 0.001 ms (minimum result over 1000 runs)\n",
      "\n",
      "Function: create_sparse_grid_with_coordinates\n",
      "Runtime: 0.028 ms (minimum result over 1000 runs)\n"
     ]
    }
   ],
   "source": [
    "functions = [create_grid_with_coordinates, create_sparse_grid_with_coordinates]\n",
    "args_lists = [[coordinates_list, grid_shape]]\n",
    "drag_race(1000, 1000, functions, args_lists, sig_figs=3, share_args=True)"
   ]
  },
  {
   "cell_type": "code",
   "execution_count": 12,
   "metadata": {},
   "outputs": [
    {
     "name": "stdout",
     "output_type": "stream",
     "text": [
      "[[1 0 0 0 0]\n",
      " [0 1 0 0 0]\n",
      " [0 0 1 0 0]\n",
      " [0 0 0 0 0]\n",
      " [0 0 0 1 0]]\n"
     ]
    }
   ],
   "source": [
    "\n",
    "grid_array = create_grid_with_coordinates(coordinates_list, grid_shape)\n",
    "print(grid_array)"
   ]
  },
  {
   "cell_type": "code",
   "execution_count": 13,
   "metadata": {},
   "outputs": [
    {
     "name": "stdout",
     "output_type": "stream",
     "text": [
      "[[1 0 0 0 0]\n",
      " [0 1 0 0 0]\n",
      " [0 0 1 0 0]\n",
      " [0 0 0 0 1]\n",
      " [0 0 0 0 0]]\n"
     ]
    }
   ],
   "source": [
    "sparse_grid = create_sparse_grid_with_coordinates(coordinates_list, grid_shape)\n",
    "print(sparse_grid.toarray())"
   ]
  },
  {
   "cell_type": "code",
   "execution_count": 14,
   "metadata": {},
   "outputs": [
    {
     "name": "stdout",
     "output_type": "stream",
     "text": [
      "[(0, 0), (1, 1), (2, 2), (3, 4)]\n"
     ]
    }
   ],
   "source": [
    "\n",
    "\n",
    "\n",
    "def extract_coordinates_from_grid(grid):\n",
    "    coordinates = []\n",
    "\n",
    "    for y, row in enumerate(grid):\n",
    "        for x, value in enumerate(row):\n",
    "            if value == 1:\n",
    "                coordinates.append((x, y))\n",
    "\n",
    "    return coordinates\n",
    "\n",
    "coordinates = extract_coordinates_from_grid(grid_array)\n",
    "print(coordinates)\n"
   ]
  },
  {
   "cell_type": "code",
   "execution_count": null,
   "metadata": {},
   "outputs": [],
   "source": []
  }
 ],
 "metadata": {
  "kernelspec": {
   "display_name": "Python 3",
   "language": "python",
   "name": "python3"
  },
  "language_info": {
   "codemirror_mode": {
    "name": "ipython",
    "version": 3
   },
   "file_extension": ".py",
   "mimetype": "text/x-python",
   "name": "python",
   "nbconvert_exporter": "python",
   "pygments_lexer": "ipython3",
   "version": "3.10.9"
  },
  "orig_nbformat": 4
 },
 "nbformat": 4,
 "nbformat_minor": 2
}
