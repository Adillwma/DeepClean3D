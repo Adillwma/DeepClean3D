{
 "cells": [
  {
   "cell_type": "code",
   "execution_count": 17,
   "metadata": {},
   "outputs": [],
   "source": [
    "def convert_bytes_to_mb(bytes):\n",
    "    return bytes / 1024 / 1024  # 1MB = 1024 * 1024 bytes\n"
   ]
  },
  {
   "cell_type": "code",
   "execution_count": 18,
   "metadata": {},
   "outputs": [
    {
     "name": "stdout",
     "output_type": "stream",
     "text": [
      "A dtype:  float64\n",
      "A size:  0.0859375 MB\n"
     ]
    }
   ],
   "source": [
    "import numpy as np\n",
    "import matplotlib.pyplot as plt\n",
    "import torch\n",
    "\n",
    "\n",
    "# create a ranodom numpy array of shape (10, 1, 88, 128)\n",
    "A = np.random.rand(1, 1, 88, 128)\n",
    "\n",
    "# print the dtype of A\n",
    "print('A dtype: ', A.dtype)\n",
    "\n",
    "# check the amont of memory used by A\n",
    "print('A size: ', convert_bytes_to_mb(A.nbytes), 'MB')"
   ]
  },
  {
   "cell_type": "code",
   "execution_count": 19,
   "metadata": {},
   "outputs": [
    {
     "name": "stdout",
     "output_type": "stream",
     "text": [
      "A dtype:  float32\n",
      "A size:  0.04296875 MB\n"
     ]
    }
   ],
   "source": [
    "# convert a to float 32\n",
    "A32 = A.astype(np.float32)\n",
    "\n",
    "print('A dtype: ', A32.dtype)\n",
    "\n",
    "# check the amount of memory used by A\n",
    "print('A size: ', convert_bytes_to_mb(A32.nbytes), 'MB')"
   ]
  },
  {
   "cell_type": "code",
   "execution_count": 20,
   "metadata": {},
   "outputs": [
    {
     "name": "stdout",
     "output_type": "stream",
     "text": [
      "A dtype:  float16\n",
      "A size:  0.021484375 MB\n"
     ]
    }
   ],
   "source": [
    "#convert A to float 16\n",
    "A16 = A.astype(np.float16)\n",
    "\n",
    "print('A dtype: ', A16.dtype)\n",
    "\n",
    "# check the amount of memory used by A\n",
    "print('A size: ', convert_bytes_to_mb(A16.nbytes), 'MB')"
   ]
  },
  {
   "cell_type": "code",
   "execution_count": 21,
   "metadata": {},
   "outputs": [
    {
     "name": "stdout",
     "output_type": "stream",
     "text": [
      "File size on disk:  0.0860595703125 MB\n",
      "B shape:  (128, 88)\n",
      "B dtype:  float64\n",
      "B size:  0.0859375 MB\n"
     ]
    }
   ],
   "source": [
    "\n",
    "filepath = r\"N:\\Yr 3 Project Datasets\\RDT 50KM Fix\\Data\\9.npy .npy\"\n",
    "\n",
    "# check size on disk of file\n",
    "import os\n",
    "print('File size on disk: ', convert_bytes_to_mb(os.path.getsize(filepath)), 'MB')\n",
    "\n",
    "# load the file\n",
    "B = np.load(filepath)\n",
    "\n",
    "#check the shape of B\n",
    "print('B shape: ', B.shape)\n",
    "\n",
    "# check the dtype of B\n",
    "print('B dtype: ', B.dtype)\n",
    "\n",
    "# check the amount of memory used by B\n",
    "print('B size: ', convert_bytes_to_mb(B.nbytes), 'MB')\n",
    "\n"
   ]
  },
  {
   "cell_type": "code",
   "execution_count": 22,
   "metadata": {},
   "outputs": [
    {
     "name": "stdout",
     "output_type": "stream",
     "text": [
      "C size:  85.9375 MB\n"
     ]
    }
   ],
   "source": [
    "C = np.random.rand(1000, 1, 88, 128)\n",
    "\n",
    "# check the amount of memory used by C\n",
    "print('C size: ', convert_bytes_to_mb(C.nbytes), 'MB')"
   ]
  },
  {
   "cell_type": "markdown",
   "metadata": {},
   "source": [
    "# TESTING THE OUTPUT OF THE OLD DATALOADER \n",
    "\n",
    "\n",
    "\n"
   ]
  },
  {
   "cell_type": "code",
   "execution_count": 24,
   "metadata": {},
   "outputs": [
    {
     "name": "stdout",
     "output_type": "stream",
     "text": [
      "B_tensor shape:  torch.Size([1, 128, 88])\n",
      "B_tensor dtype:  torch.float64\n",
      "B_tensor size:  0.0859375 MB\n"
     ]
    }
   ],
   "source": [
    "from functools import partial\n",
    "\n",
    "def np_to_tensor(np_array, dtype):\n",
    "    \"\"\"\n",
    "    Convert np array to torch tensor of user selected precision and adds a channel dim. \n",
    "    Takes in np array of shape [H, W] and returns torch tensor of shape [C, H, W]\n",
    "    \"\"\"\n",
    "    tensor = torch.tensor(np_array, dtype=dtype)\n",
    "    tensor = tensor.unsqueeze(0)                                                         # Append channel dimension to begining of tensor\n",
    "    return(tensor)\n",
    "\n",
    "\n",
    "tensor_transform = partial(np_to_tensor, dtype=torch.float64) #using functools partial to bundle the args into np_to_tensor to use in custom torch transform using lambda function\n",
    "\n",
    "# perform the transform on tensor B\n",
    "B_tensor = tensor_transform(B)\n",
    "\n",
    "# check the shape of B_tensor\n",
    "print('B_tensor shape: ', B_tensor.shape)\n",
    "\n",
    "# check the dtype of B_tensor\n",
    "print('B_tensor dtype: ', B_tensor.dtype)\n",
    "\n",
    "# check the amount of memory used by B_tensor\n",
    "print('B_tensor size: ', convert_bytes_to_mb(B_tensor.numpy().nbytes), 'MB')"
   ]
  },
  {
   "cell_type": "code",
   "execution_count": 31,
   "metadata": {},
   "outputs": [],
   "source": [
    "\n",
    "tensor_0 = torch.randn(1, 3, 4)\n",
    "tensor_1 = torch.randn(1, 3, 4)\n",
    "tensor_2 = torch.randn(1, 3, 4)\n",
    "data = [tensor_0, tensor_1, tensor_2]\n",
    "stacked_tensor = torch.stack(data, dim=0)\n",
    "\n",
    "\n",
    "\n"
   ]
  },
  {
   "cell_type": "code",
   "execution_count": 29,
   "metadata": {},
   "outputs": [
    {
     "name": "stdout",
     "output_type": "stream",
     "text": [
      "torch.Size([3, 1, 3, 4])\n",
      "True\n"
     ]
    }
   ],
   "source": [
    "tensor_list = []\n",
    "for file_path_on_disk in file_paths_on_disk:\n",
    "    # load the file\n",
    "    tensor = torch.load(file_path_on_disk)\n",
    "\n",
    "    # append the tensor to the list\n",
    "    tensor_list.append(tensor)\n",
    "\n",
    "stacked_tensor2 = torch.stack(tensor_list, dim=0)\n"
   ]
  },
  {
   "cell_type": "code",
   "execution_count": null,
   "metadata": {},
   "outputs": [],
   "source": [
    "stacked_tensor = torch.stack([torch.load(file_path) for file_path in file_paths_on_disk], dim=0)"
   ]
  },
  {
   "cell_type": "code",
   "execution_count": null,
   "metadata": {},
   "outputs": [],
   "source": []
  },
  {
   "cell_type": "code",
   "execution_count": null,
   "metadata": {},
   "outputs": [],
   "source": []
  },
  {
   "cell_type": "code",
   "execution_count": null,
   "metadata": {},
   "outputs": [],
   "source": [
    "# create a random tensor of shape (1000, 88, 128)\n",
    "G = torch.randn(1000, 88, 128)\n",
    "\n",
    "# Add a channel dimension to G\n",
    "G = G.unsqueeze(1)"
   ]
  },
  {
   "cell_type": "code",
   "execution_count": 33,
   "metadata": {},
   "outputs": [
    {
     "name": "stdout",
     "output_type": "stream",
     "text": [
      "Last three digits of index 1234:  1\n",
      "Last three digits of index 1234:  14\n",
      "Last three digits of index 1234:  124\n",
      "Last three digits of index 1234:  234\n",
      "Last three digits of index 1234:  314\n",
      "Last three digits of index 1234:  534\n"
     ]
    }
   ],
   "source": [
    "# make variable t equal to the last three digits of the index\n",
    "\n",
    "def get_last_three_digits(index):\n",
    "    return \n",
    "\n",
    "\n",
    "\n",
    "\n",
    "print('Last three digits of index 1234: ', get_last_three_digits(1))\n",
    "\n",
    "print('Last three digits of index 1234: ', get_last_three_digits(14))\n",
    "\n",
    "print('Last three digits of index 1234: ', get_last_three_digits(124))\n",
    "\n",
    "print('Last three digits of index 1234: ', get_last_three_digits(1234))\n",
    "\n",
    "print('Last three digits of index 1234: ', get_last_three_digits(12332314))\n",
    "\n",
    "print('Last three digits of index 1234: ', get_last_three_digits(125555534))"
   ]
  },
  {
   "cell_type": "code",
   "execution_count": null,
   "metadata": {},
   "outputs": [],
   "source": []
  }
 ],
 "metadata": {
  "kernelspec": {
   "display_name": "Python 3",
   "language": "python",
   "name": "python3"
  },
  "language_info": {
   "codemirror_mode": {
    "name": "ipython",
    "version": 3
   },
   "file_extension": ".py",
   "mimetype": "text/x-python",
   "name": "python",
   "nbconvert_exporter": "python",
   "pygments_lexer": "ipython3",
   "version": "3.10.9"
  }
 },
 "nbformat": 4,
 "nbformat_minor": 2
}
