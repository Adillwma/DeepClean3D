{
 "cells": [
  {
   "cell_type": "code",
   "execution_count": 27,
   "metadata": {},
   "outputs": [
    {
     "name": "stdout",
     "output_type": "stream",
     "text": [
      "7\n",
      "11\n",
      "3.14\n"
     ]
    }
   ],
   "source": [
    "import torch\n",
    "\n",
    "def input_range_to_random_value(*args):\n",
    "    results = []\n",
    "\n",
    "    for input_range in args:\n",
    "        if isinstance(input_range, (int, float)):\n",
    "            results.append(input_range)\n",
    "        elif isinstance(input_range, (list, tuple)):\n",
    "            results.append(torch.randint(input_range[0], input_range[1] + 1, (1,)).item())\n",
    "        else:\n",
    "            print(\"Error: input_range_to_random_value() input is not a value or pair of values\")\n",
    "            results.append(None)\n",
    "    \n",
    "    return results\n",
    "\n",
    "# Example usage\n",
    "result1, result2, result3 = input_range_to_random_value([5,13], (10, 12), 3.14)\n",
    "print(result1)  # Output: 5\n",
    "print(result2)  # Output: Random integer between 10 and 20\n",
    "print(result3)  # Output: 3.14\n"
   ]
  },
  {
   "cell_type": "code",
   "execution_count": null,
   "metadata": {},
   "outputs": [],
   "source": []
  },
  {
   "cell_type": "code",
   "execution_count": 37,
   "metadata": {},
   "outputs": [],
   "source": [
    "def input_range_to_random_value(*args):\n",
    "    \"\"\"\n",
    "    Generate random values based on input ranges or single values.\n",
    "\n",
    "    This function accepts an arbitrary number of arguments, where each argument\n",
    "    can be either a single value (int or float) or a range (list or tuple) of\n",
    "    values. For ranges, it generates a random integer if the range consists of\n",
    "    integers, or a random float if the range consists of floats.\n",
    "\n",
    "    Parameters:\n",
    "    *args : int, float, list, tuple\n",
    "        Arbitrary number of input arguments. Each argument can be a single value\n",
    "        or a range represented as a list or tuple of two values.\n",
    "\n",
    "    Returns:\n",
    "    list\n",
    "        A list containing the generated random values or the input values if they\n",
    "        are already single values. If an input argument is not recognized as a\n",
    "        value or range, None is appended to the list and an error message is printed.\n",
    "    \"\"\"\n",
    "    results = []\n",
    "\n",
    "    for input_range in args:\n",
    "\n",
    "        if isinstance(input_range, (int, float)):\n",
    "            ## If input is single value it is not randomised as is manually set\n",
    "            results.append(input_range)\n",
    "        \n",
    "        elif isinstance(input_range, (list, tuple)):\n",
    "            ## If input is a list or tuple then it is considered a range of values and is randomised in that range\n",
    "            \n",
    "            if all(isinstance(x, int) for x in input_range):\n",
    "                ## If all values in the list are ints then the whole list is considered to be a range of ints and an int is returned\n",
    "                results.append(torch.randint(input_range[0], input_range[1] + 1, (1,)).item())\n",
    "\n",
    "            elif (isinstance(x, float) for x in input_range):\n",
    "                ## Else if any single value in the list is a float then function will return a float\n",
    "                results.append(torch.rand(1).item() * (input_range[1] - input_range[0]) + input_range[0])\n",
    "            \n",
    "            else:\n",
    "                print(\"Error: input_range_to_random_value() input is not a value or pair of values in recognised format, must be float or int\")\n",
    "                results.append(None)\n",
    "        else:\n",
    "            print(\"Error: input_range_to_random_value() input is not a value or pair of values\")\n",
    "            results.append(None)\n",
    "    \n",
    "    return results"
   ]
  },
  {
   "cell_type": "code",
   "execution_count": 39,
   "metadata": {},
   "outputs": [
    {
     "name": "stdout",
     "output_type": "stream",
     "text": [
      "5.579805552959442\n",
      "9.848468482494354\n",
      "3.14\n"
     ]
    }
   ],
   "source": [
    "# Example usage\n",
    "result1, result2, result3 = input_range_to_random_value([5.0,6.3], (1.0, 12), 3.14)\n",
    "print(result1)  # Output: 5\n",
    "print(result2)  # Output: Random integer between 10 and 20\n",
    "print(result3)  # Output: 3.14"
   ]
  },
  {
   "cell_type": "code",
   "execution_count": null,
   "metadata": {},
   "outputs": [],
   "source": []
  }
 ],
 "metadata": {
  "kernelspec": {
   "display_name": "Python 3",
   "language": "python",
   "name": "python3"
  },
  "language_info": {
   "codemirror_mode": {
    "name": "ipython",
    "version": 3
   },
   "file_extension": ".py",
   "mimetype": "text/x-python",
   "name": "python",
   "nbconvert_exporter": "python",
   "pygments_lexer": "ipython3",
   "version": "3.10.9"
  },
  "orig_nbformat": 4
 },
 "nbformat": 4,
 "nbformat_minor": 2
}
