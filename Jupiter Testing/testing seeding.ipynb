{
 "cells": [
  {
   "cell_type": "code",
   "execution_count": 9,
   "metadata": {},
   "outputs": [
    {
     "name": "stdout",
     "output_type": "stream",
     "text": [
      "6\n",
      "1238707723\n",
      "tensor([[0.1674, 0.3333, 0.4648],\n",
      "        [0.6332, 0.7692, 0.2147],\n",
      "        [0.7815, 0.8644, 0.6052]])\n",
      "[[0.62251943 0.43814143 0.73588211]\n",
      " [0.51803641 0.5788586  0.6453551 ]\n",
      " [0.99022427 0.8198582  0.41320093]]\n",
      "6\n",
      "1238707723\n"
     ]
    }
   ],
   "source": [
    "import torch\n",
    "import numpy as np\n",
    "\n",
    "\n",
    "print(torch.initial_seed())\n",
    "print(np.random.get_state()[1][0])\n",
    "\n",
    "\n",
    "print(torch.rand(3, 3))\n",
    "print(np.random.rand(3, 3))\n",
    "\n",
    "print(torch.initial_seed())\n",
    "print(np.random.get_state()[1][0])"
   ]
  },
  {
   "cell_type": "code",
   "execution_count": 10,
   "metadata": {},
   "outputs": [],
   "source": [
    "seeding_value = 6\n"
   ]
  },
  {
   "cell_type": "code",
   "execution_count": 11,
   "metadata": {},
   "outputs": [
    {
     "name": "stdout",
     "output_type": "stream",
     "text": [
      "Seeding with value: 6\n"
     ]
    }
   ],
   "source": [
    "# Helper fucntion that sets RNG Seeding for determinism in debugging\n",
    "def Determinism_Seeding(seed):\n",
    "    torch.manual_seed(seed)\n",
    "    np.random.seed(seed)\n",
    "\n",
    "# Initialises seeding values to RNGs\n",
    "if seeding_value:\n",
    "    Determinism_Seeding(seeding_value)             # Set the seed for the RNGs\n",
    "    print(\"Seeding with value:\", seeding_value)\n",
    "else:\n",
    "    torch.seed()                                    # Set the seed for the RNGs\n",
    "    np.random.seed()\n",
    "\n",
    "T_seed = torch.initial_seed()\n",
    "N_seed = np.random.get_state()[1][0]\n"
   ]
  },
  {
   "cell_type": "code",
   "execution_count": 12,
   "metadata": {},
   "outputs": [
    {
     "name": "stdout",
     "output_type": "stream",
     "text": [
      "6\n",
      "6\n",
      "tensor([[0.5722, 0.5539, 0.9868],\n",
      "        [0.6080, 0.2347, 0.4492],\n",
      "        [0.6743, 0.7480, 0.5601]])\n",
      "[[0.89286015 0.33197981 0.82122912]\n",
      " [0.04169663 0.10765668 0.59505206]\n",
      " [0.52981736 0.41880743 0.33540785]]\n"
     ]
    }
   ],
   "source": [
    "\n",
    "print(np.random.get_state()[1][0])\n",
    "print(torch.initial_seed())\n",
    "\n",
    "print(torch.rand(3, 3))\n",
    "print(np.random.rand(3, 3))"
   ]
  }
 ],
 "metadata": {
  "kernelspec": {
   "display_name": "Python 3",
   "language": "python",
   "name": "python3"
  },
  "language_info": {
   "codemirror_mode": {
    "name": "ipython",
    "version": 3
   },
   "file_extension": ".py",
   "mimetype": "text/x-python",
   "name": "python",
   "nbconvert_exporter": "python",
   "pygments_lexer": "ipython3",
   "version": "3.10.9"
  },
  "orig_nbformat": 4
 },
 "nbformat": 4,
 "nbformat_minor": 2
}
