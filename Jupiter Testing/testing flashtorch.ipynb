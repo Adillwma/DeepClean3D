{
 "cells": [
  {
   "cell_type": "code",
   "execution_count": 1,
   "metadata": {},
   "outputs": [
    {
     "ename": "ImportError",
     "evalue": "cannot import name 'path' from 'importlib_resources' (c:\\Users\\Ada\\AppData\\Local\\Programs\\Python\\Python310\\lib\\site-packages\\importlib_resources\\__init__.py)",
     "output_type": "error",
     "traceback": [
      "\u001b[1;31m---------------------------------------------------------------------------\u001b[0m",
      "\u001b[1;31mImportError\u001b[0m                               Traceback (most recent call last)",
      "Cell \u001b[1;32mIn[1], line 6\u001b[0m\n\u001b[0;32m      3\u001b[0m \u001b[39mimport\u001b[39;00m \u001b[39mnumpy\u001b[39;00m \u001b[39mas\u001b[39;00m \u001b[39mnp\u001b[39;00m\n\u001b[0;32m      4\u001b[0m \u001b[39mimport\u001b[39;00m \u001b[39mmatplotlib\u001b[39;00m\u001b[39m.\u001b[39;00m\u001b[39mpyplot\u001b[39;00m \u001b[39mas\u001b[39;00m \u001b[39mplt\u001b[39;00m\n\u001b[1;32m----> 6\u001b[0m \u001b[39mfrom\u001b[39;00m \u001b[39mflashtorch\u001b[39;00m\u001b[39m.\u001b[39;00m\u001b[39msaliency\u001b[39;00m \u001b[39mimport\u001b[39;00m Backprop\n",
      "File \u001b[1;32mc:\\Users\\Ada\\AppData\\Local\\Programs\\Python\\Python310\\lib\\site-packages\\flashtorch\\saliency\\__init__.py:2\u001b[0m\n\u001b[0;32m      1\u001b[0m \u001b[39m# flake8: noqa\u001b[39;00m\n\u001b[1;32m----> 2\u001b[0m \u001b[39mfrom\u001b[39;00m \u001b[39m.\u001b[39;00m\u001b[39mbackprop\u001b[39;00m \u001b[39mimport\u001b[39;00m \u001b[39m*\u001b[39m\n",
      "File \u001b[1;32mc:\\Users\\Ada\\AppData\\Local\\Programs\\Python\\Python310\\lib\\site-packages\\flashtorch\\saliency\\backprop.py:9\u001b[0m\n\u001b[0;32m      5\u001b[0m \u001b[39mimport\u001b[39;00m \u001b[39mtorch\u001b[39;00m\n\u001b[0;32m      6\u001b[0m \u001b[39mimport\u001b[39;00m \u001b[39mtorch\u001b[39;00m\u001b[39m.\u001b[39;00m\u001b[39mnn\u001b[39;00m \u001b[39mas\u001b[39;00m \u001b[39mnn\u001b[39;00m\n\u001b[1;32m----> 9\u001b[0m \u001b[39mfrom\u001b[39;00m \u001b[39mflashtorch\u001b[39;00m\u001b[39m.\u001b[39;00m\u001b[39mutils\u001b[39;00m \u001b[39mimport\u001b[39;00m (denormalize,\n\u001b[0;32m     10\u001b[0m                               format_for_plotting,\n\u001b[0;32m     11\u001b[0m                               standardize_and_clip)\n\u001b[0;32m     14\u001b[0m \u001b[39mclass\u001b[39;00m \u001b[39mBackprop\u001b[39;00m:\n\u001b[0;32m     15\u001b[0m \u001b[39m    \u001b[39m\u001b[39m\"\"\"Provides an interface to perform backpropagation.\u001b[39;00m\n\u001b[0;32m     16\u001b[0m \n\u001b[0;32m     17\u001b[0m \u001b[39m    This class provids a way to calculate the gradients of a target class\u001b[39;00m\n\u001b[1;32m   (...)\u001b[0m\n\u001b[0;32m     31\u001b[0m \n\u001b[0;32m     32\u001b[0m \u001b[39m    \"\"\"\u001b[39;00m \u001b[39m# noqa\u001b[39;00m\n",
      "File \u001b[1;32mc:\\Users\\Ada\\AppData\\Local\\Programs\\Python\\Python310\\lib\\site-packages\\flashtorch\\utils\\__init__.py:13\u001b[0m\n\u001b[0;32m     10\u001b[0m \u001b[39mimport\u001b[39;00m \u001b[39mtorchvision\u001b[39;00m\u001b[39m.\u001b[39;00m\u001b[39mtransforms\u001b[39;00m \u001b[39mas\u001b[39;00m \u001b[39mtransforms\u001b[39;00m\n\u001b[0;32m     11\u001b[0m \u001b[39mimport\u001b[39;00m \u001b[39mtorchvision\u001b[39;00m\u001b[39m.\u001b[39;00m\u001b[39mtransforms\u001b[39;00m\u001b[39m.\u001b[39;00m\u001b[39mfunctional\u001b[39;00m \u001b[39mas\u001b[39;00m \u001b[39mF\u001b[39;00m\n\u001b[1;32m---> 13\u001b[0m \u001b[39mfrom\u001b[39;00m \u001b[39m.\u001b[39;00m\u001b[39mimagenet\u001b[39;00m \u001b[39mimport\u001b[39;00m \u001b[39m*\u001b[39m \u001b[39m# noqa\u001b[39;00m\n\u001b[0;32m     16\u001b[0m \u001b[39mdef\u001b[39;00m \u001b[39mload_image\u001b[39m(image_path):\n\u001b[0;32m     17\u001b[0m \u001b[39m    \u001b[39m\u001b[39m\"\"\"Loads image as a PIL RGB image.\u001b[39;00m\n\u001b[0;32m     18\u001b[0m \n\u001b[0;32m     19\u001b[0m \u001b[39m    Args:\u001b[39;00m\n\u001b[1;32m   (...)\u001b[0m\n\u001b[0;32m     24\u001b[0m \n\u001b[0;32m     25\u001b[0m \u001b[39m    \"\"\"\u001b[39;00m\n",
      "File \u001b[1;32mc:\\Users\\Ada\\AppData\\Local\\Programs\\Python\\Python310\\lib\\site-packages\\flashtorch\\utils\\imagenet.py:9\u001b[0m\n\u001b[0;32m      6\u001b[0m \u001b[39mimport\u001b[39;00m \u001b[39mjson\u001b[39;00m\n\u001b[0;32m      8\u001b[0m \u001b[39mfrom\u001b[39;00m \u001b[39mcollections\u001b[39;00m\u001b[39m.\u001b[39;00m\u001b[39mabc\u001b[39;00m \u001b[39mimport\u001b[39;00m Mapping\n\u001b[1;32m----> 9\u001b[0m \u001b[39mfrom\u001b[39;00m \u001b[39mimportlib_resources\u001b[39;00m \u001b[39mimport\u001b[39;00m path\n\u001b[0;32m     11\u001b[0m \u001b[39mfrom\u001b[39;00m \u001b[39m.\u001b[39;00m \u001b[39mimport\u001b[39;00m resources\n\u001b[0;32m     14\u001b[0m \u001b[39mclass\u001b[39;00m \u001b[39mImageNetIndex\u001b[39;00m(Mapping):\n",
      "\u001b[1;31mImportError\u001b[0m: cannot import name 'path' from 'importlib_resources' (c:\\Users\\Ada\\AppData\\Local\\Programs\\Python\\Python310\\lib\\site-packages\\importlib_resources\\__init__.py)"
     ]
    }
   ],
   "source": [
    "import flashtorch\n",
    "import torch\n",
    "import numpy as np\n",
    "import matplotlib.pyplot as plt\n",
    "\n",
    "from flashtorch.saliency import Backprop\n"
   ]
  },
  {
   "cell_type": "code",
   "execution_count": null,
   "metadata": {},
   "outputs": [],
   "source": [
    "\n",
    "# import pytorch model pt file from user specified path\n",
    "path = 'N:\\Yr 3 Project Results\\RDT 500K 1000ToF timed - Training Results\\Model_Deployment\\RDT 500K 1000ToF timed - Model + Optimiser State Dicts.pth'\n",
    "loaded_model = torch.load(path, map_location=torch.device('cpu'))\n",
    "\n",
    "# create image tensor (b, c, h, w)\n",
    "image_tensor = torch.rand(1, 1, 1000, 1000)"
   ]
  },
  {
   "cell_type": "code",
   "execution_count": null,
   "metadata": {},
   "outputs": [],
   "source": [
    "backprop = Backprop(loaded_model)\n",
    "\n",
    "backprop.visualize(image_tensor)"
   ]
  }
 ],
 "metadata": {
  "kernelspec": {
   "display_name": "Python 3",
   "language": "python",
   "name": "python3"
  },
  "language_info": {
   "codemirror_mode": {
    "name": "ipython",
    "version": 3
   },
   "file_extension": ".py",
   "mimetype": "text/x-python",
   "name": "python",
   "nbconvert_exporter": "python",
   "pygments_lexer": "ipython3",
   "version": "3.10.9"
  },
  "orig_nbformat": 4
 },
 "nbformat": 4,
 "nbformat_minor": 2
}
