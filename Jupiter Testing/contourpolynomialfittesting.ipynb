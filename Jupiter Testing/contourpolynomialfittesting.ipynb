{
 "cells": [
  {
   "cell_type": "code",
   "execution_count": 8,
   "metadata": {},
   "outputs": [
    {
     "name": "stderr",
     "output_type": "stream",
     "text": [
      "C:\\Users\\Ada\\AppData\\Local\\Temp\\ipykernel_24504\\2218118468.py:63: RankWarning: Polyfit may be poorly conditioned\n",
      "  center = find_blurry_line_center(image_path)\n"
     ]
    },
    {
     "data": {
      "image/png": "[encoded data removed]",
      "text/plain": [
       "<Figure size 640x480 with 1 Axes>"
      ]
     },
     "metadata": {},
     "output_type": "display_data"
    },
    {
     "name": "stdout",
     "output_type": "stream",
     "text": [
      "Estimated Center: (15.0, 69.0)\n"
     ]
    }
   ],
   "source": [
    "import cv2\n",
    "import numpy as np\n",
    "import matplotlib.pyplot as plt\n",
    "\n",
    "def find_blurry_line_center(img_path, min_area=100, degree=2):\n",
    "    \"\"\"\n",
    "    Find the center of blurry lines in an image.\n",
    "\n",
    "    Parameters:\n",
    "    - img_path: Path to the image file.\n",
    "    - min_area: Minimum contour area to consider. Default is 100.\n",
    "    - degree: Degree of the polynomial for curve fitting. Default is 2.\n",
    "\n",
    "    Returns:\n",
    "    - Tuple (center_x, center_y): Estimated center coordinates of the blurry lines.\n",
    "    \"\"\"\n",
    "\n",
    "    # Load the image\n",
    "    img = cv2.imread(img_path, cv2.IMREAD_GRAYSCALE)\n",
    "\n",
    "    # Apply Gaussian blur to reduce noise\n",
    "    #blurred = cv2.GaussianBlur(img, (5, 5), 0)\n",
    "\n",
    "    # Apply adaptive thresholding to create a binary image\n",
    "    _, binary = cv2.threshold(img, 128, 255, cv2.THRESH_BINARY)\n",
    "\n",
    "    # Optionally, perform morphological operations to further enhance the image\n",
    "    #kernel = np.ones((3, 3), np.uint8)\n",
    "    #morphed = cv2.morphologyEx(binary, cv2.MORPH_CLOSE, kernel)\n",
    "\n",
    "    # Find contours\n",
    "    contours, _ = cv2.findContours(binary, cv2.RETR_EXTERNAL, cv2.CHAIN_APPROX_SIMPLE)\n",
    "\n",
    "    # Filter contours based on area\n",
    "    #contours = [cnt for cnt in contours if cv2.contourArea(cnt) > min_area]\n",
    "    # Create a blank canvas to draw the lines\n",
    "    line_canvas = np.zeros_like(img)\n",
    "    \n",
    "    # Fit a curve to the remaining contours\n",
    "    if contours:\n",
    "        cnt = max(contours, key=cv2.contourArea)  # Choose the largest contour\n",
    "        curve = np.polyfit(cnt[:, 0, 0], cnt[:, 0, 1], degree)\n",
    "\n",
    "        # Get the center of the curve\n",
    "        center_x = np.mean(cnt[:, 0, 0])\n",
    "        center_y = np.polyval(curve, center_x)\n",
    "        \n",
    "        # Draw a line along the center\n",
    "        cv2.line(line_canvas, (int(center_x), int(center_y)), (int(center_x), int(center_y)), 255, 1)\n",
    "\n",
    "        # Plot the original image with the lines\n",
    "        plt.imshow(img, cmap='gray')\n",
    "        plt.imshow(line_canvas, cmap='jet', alpha=0.5)\n",
    "        plt.show()\n",
    "\n",
    "\n",
    "        return center_x, center_y\n",
    "    else:\n",
    "        return None\n",
    "\n",
    "# Example usage:\n",
    "image_path = r'A:\\Users\\Ada\\GitHub\\DeepClean_Repo\\Parabola2 - Epoch 226.png'  # Replace with the actual path to your image\n",
    "center = find_blurry_line_center(image_path)\n",
    "print(\"Estimated Center:\", center)\n"
   ]
  },
  {
   "cell_type": "code",
   "execution_count": null,
   "metadata": {},
   "outputs": [],
   "source": []
  }
 ],
 "metadata": {
  "kernelspec": {
   "display_name": "Python 3",
   "language": "python",
   "name": "python3"
  },
  "language_info": {
   "codemirror_mode": {
    "name": "ipython",
    "version": 3
   },
   "file_extension": ".py",
   "mimetype": "text/x-python",
   "name": "python",
   "nbconvert_exporter": "python",
   "pygments_lexer": "ipython3",
   "version": "3.10.9"
  }
 },
 "nbformat": 4,
 "nbformat_minor": 2
}
