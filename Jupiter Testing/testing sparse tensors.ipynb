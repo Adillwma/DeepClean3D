{
 "cells": [
  {
   "cell_type": "code",
   "execution_count": 1,
   "metadata": {},
   "outputs": [
    {
     "name": "stdout",
     "output_type": "stream",
     "text": [
      "tensor(indices=tensor([[0, 1],\n",
      "                       [1, 2]]),\n",
      "       values=tensor([3., 4.]),\n",
      "       size=(2, 3), nnz=2, layout=torch.sparse_coo)\n"
     ]
    }
   ],
   "source": [
    "import torch#\n",
    "\n",
    "indices = torch.tensor([[0, 1], [1, 2]])\n",
    "values = torch.tensor([3.0, 4.0])\n",
    "sparse_tensor = torch.sparse_coo_tensor(indices, values, size=(2, 3))\n",
    "\n",
    "print(sparse_tensor)"
   ]
  },
  {
   "cell_type": "code",
   "execution_count": 13,
   "metadata": {},
   "outputs": [
    {
     "name": "stdout",
     "output_type": "stream",
     "text": [
      "torch.Size([1, 1, 3, 3])\n",
      "tensor([[[[1., 0., 0.],\n",
      "          [0., 1., 0.],\n",
      "          [0., 0., 1.]]]])\n"
     ]
    }
   ],
   "source": [
    "\n",
    "torch.manual_seed(10)\n",
    "\n",
    "dense_tensor = torch.zeros(1, 1, 3, 3)\n",
    "dense_tensor[0, 0, 0, 0] = 1\n",
    "dense_tensor[0, 0, 1, 1] = 1\n",
    "dense_tensor[0, 0, 2, 2] = 1\n",
    "\n",
    "print(dense_tensor.shape)\n",
    "print(dense_tensor)\n",
    "\n"
   ]
  },
  {
   "cell_type": "code",
   "execution_count": null,
   "metadata": {},
   "outputs": [],
   "source": []
  },
  {
   "cell_type": "code",
   "execution_count": 31,
   "metadata": {},
   "outputs": [
    {
     "name": "stdout",
     "output_type": "stream",
     "text": [
      "torch.Size([1, 1, 3, 3])\n",
      "tensor(indices=tensor([[0, 0, 0],\n",
      "                       [0, 0, 0],\n",
      "                       [0, 1, 2],\n",
      "                       [0, 1, 2]]),\n",
      "       values=tensor([1., 1., 1.]),\n",
      "       size=(1, 1, 3, 3), nnz=3, layout=torch.sparse_coo)\n"
     ]
    }
   ],
   "source": [
    "sparse_tensor = dense_tensor.to_sparse_coo()\n",
    "\n",
    "print(sparse_tensor.shape)\n",
    "print(sparse_tensor)"
   ]
  },
  {
   "cell_type": "code",
   "execution_count": 32,
   "metadata": {},
   "outputs": [
    {
     "name": "stdout",
     "output_type": "stream",
     "text": [
      "tensor([[0, 0, 0],\n",
      "        [0, 0, 0],\n",
      "        [0, 1, 2],\n",
      "        [0, 1, 2]])\n",
      "tensor([1., 1., 1.])\n"
     ]
    }
   ],
   "source": [
    "print(sparse_tensor.indices())\n",
    "print(sparse_tensor.values())"
   ]
  },
  {
   "cell_type": "code",
   "execution_count": 33,
   "metadata": {},
   "outputs": [
    {
     "name": "stdout",
     "output_type": "stream",
     "text": [
      "tensor([[[[[0., 0., 0., 0., 0., 0., 0., 0., 0., 0.],\n",
      "           [0., 0., 0., 0., 0., 0., 0., 0., 0., 0.],\n",
      "           [0., 0., 0., 0., 0., 0., 0., 0., 0., 0.]],\n",
      "\n",
      "          [[0., 0., 0., 0., 0., 0., 0., 0., 0., 0.],\n",
      "           [0., 0., 0., 0., 0., 0., 0., 0., 0., 0.],\n",
      "           [0., 0., 0., 0., 0., 0., 0., 0., 0., 0.]],\n",
      "\n",
      "          [[0., 0., 0., 0., 0., 0., 0., 0., 0., 0.],\n",
      "           [0., 0., 0., 0., 0., 0., 0., 0., 0., 0.],\n",
      "           [0., 0., 0., 0., 0., 0., 0., 0., 0., 0.]]]]])\n"
     ]
    }
   ],
   "source": [
    "THREEDEE = torch.zeros(1, 1, 3, 3, 10)\n",
    "print(THREEDEE)"
   ]
  },
  {
   "cell_type": "code",
   "execution_count": 34,
   "metadata": {},
   "outputs": [
    {
     "ename": "RuntimeError",
     "evalue": "Index tensor must have the same number of dimensions as self tensor",
     "output_type": "error",
     "traceback": [
      "\u001b[1;31m---------------------------------------------------------------------------\u001b[0m",
      "\u001b[1;31mRuntimeError\u001b[0m                              Traceback (most recent call last)",
      "Cell \u001b[1;32mIn[34], line 1\u001b[0m\n\u001b[1;32m----> 1\u001b[0m THREEDEE \u001b[39m=\u001b[39m THREEDEE\u001b[39m.\u001b[39;49mscatter(\u001b[39m2\u001b[39;49m, sparse_tensor\u001b[39m.\u001b[39;49mindices(), \u001b[39m1.0\u001b[39;49m)\n",
      "\u001b[1;31mRuntimeError\u001b[0m: Index tensor must have the same number of dimensions as self tensor"
     ]
    }
   ],
   "source": [
    "THREEDEE = THREEDEE.scatter(2, sparse_tensor.indices(), 1.0)\n"
   ]
  },
  {
   "cell_type": "code",
   "execution_count": null,
   "metadata": {},
   "outputs": [],
   "source": []
  },
  {
   "cell_type": "code",
   "execution_count": null,
   "metadata": {},
   "outputs": [],
   "source": []
  },
  {
   "cell_type": "code",
   "execution_count": null,
   "metadata": {},
   "outputs": [],
   "source": []
  },
  {
   "cell_type": "code",
   "execution_count": null,
   "metadata": {},
   "outputs": [],
   "source": []
  },
  {
   "cell_type": "code",
   "execution_count": 37,
   "metadata": {},
   "outputs": [
    {
     "ename": "TypeError",
     "evalue": "scatter() received an invalid combination of arguments - got (Tensor, Tensor, reduce=str, out=Tensor, dim_size=int), but expected one of:\n * (int dim, Tensor index, Tensor src)\n * (int dim, Tensor index, Tensor src, *, str reduce)\n      didn't match because some of the keywords were incorrect: out, dim_size\n * (name dim, Tensor index, Tensor src)\n * (int dim, Tensor index, Number value)\n * (int dim, Tensor index, Number value, *, str reduce)\n      didn't match because some of the keywords were incorrect: out, dim_size\n * (name dim, Tensor index, Number value)\n",
     "output_type": "error",
     "traceback": [
      "\u001b[1;31m---------------------------------------------------------------------------\u001b[0m",
      "\u001b[1;31mTypeError\u001b[0m                                 Traceback (most recent call last)",
      "Cell \u001b[1;32mIn[37], line 19\u001b[0m\n\u001b[0;32m     17\u001b[0m num_nodes \u001b[39m=\u001b[39m \u001b[39m3\u001b[39m\n\u001b[0;32m     18\u001b[0m output \u001b[39m=\u001b[39m torch\u001b[39m.\u001b[39mzeros(num_nodes, dtype\u001b[39m=\u001b[39mtorch\u001b[39m.\u001b[39mint64)\n\u001b[1;32m---> 19\u001b[0m output\u001b[39m.\u001b[39;49mscatter(sparse_values, sparse_indices[\u001b[39m0\u001b[39;49m], out\u001b[39m=\u001b[39;49moutput, dim_size\u001b[39m=\u001b[39;49mnum_nodes, reduce\u001b[39m=\u001b[39;49m\u001b[39m'\u001b[39;49m\u001b[39madd\u001b[39;49m\u001b[39m'\u001b[39;49m)\n\u001b[0;32m     21\u001b[0m \u001b[39mprint\u001b[39m(\u001b[39m\"\u001b[39m\u001b[39mOriginal dense matrix:\u001b[39m\u001b[39m\"\u001b[39m)\n\u001b[0;32m     22\u001b[0m \u001b[39mprint\u001b[39m(dense_matrix)\n",
      "\u001b[1;31mTypeError\u001b[0m: scatter() received an invalid combination of arguments - got (Tensor, Tensor, reduce=str, out=Tensor, dim_size=int), but expected one of:\n * (int dim, Tensor index, Tensor src)\n * (int dim, Tensor index, Tensor src, *, str reduce)\n      didn't match because some of the keywords were incorrect: out, dim_size\n * (name dim, Tensor index, Tensor src)\n * (int dim, Tensor index, Number value)\n * (int dim, Tensor index, Number value, *, str reduce)\n      didn't match because some of the keywords were incorrect: out, dim_size\n * (name dim, Tensor index, Number value)\n"
     ]
    }
   ],
   "source": [
    "import torch\n",
    "\n",
    "# Create a sparse matrix (COO format)\n",
    "indices = torch.tensor([[0, 1, 1, 2],\n",
    "                        [1, 0, 2, 1]])\n",
    "values = torch.tensor([2, 3, 4, 5])\n",
    "sparse_matrix = torch.sparse_coo_tensor(indices, values, (3, 3))\n",
    "\n",
    "# Convert the sparse matrix to a dense tensor\n",
    "dense_matrix = sparse_matrix.to_dense()\n",
    "\n",
    "# Get indices and values from the sparse matrix\n",
    "sparse_indices = sparse_matrix.coalesce().indices()\n",
    "sparse_values = sparse_matrix.coalesce().values()\n",
    "\n",
    "# Perform scatter operation using torch_scatter.scatter\n",
    "num_nodes = 3\n",
    "output = torch.zeros(num_nodes, dtype=torch.int64)\n",
    "output.scatter(sparse_values, sparse_indices[0], out=output, dim_size=num_nodes, reduce='add')\n",
    "\n",
    "print(\"Original dense matrix:\")\n",
    "print(dense_matrix)\n",
    "print(\"Output after scatter operation:\")\n",
    "print(output)\n"
   ]
  },
  {
   "cell_type": "code",
   "execution_count": null,
   "metadata": {},
   "outputs": [],
   "source": []
  }
 ],
 "metadata": {
  "kernelspec": {
   "display_name": "Python 3",
   "language": "python",
   "name": "python3"
  },
  "language_info": {
   "codemirror_mode": {
    "name": "ipython",
    "version": 3
   },
   "file_extension": ".py",
   "mimetype": "text/x-python",
   "name": "python",
   "nbconvert_exporter": "python",
   "pygments_lexer": "ipython3",
   "version": "3.10.9"
  },
  "orig_nbformat": 4
 },
 "nbformat": 4,
 "nbformat_minor": 2
}
