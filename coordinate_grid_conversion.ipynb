{
 "cells": [
  {
   "cell_type": "code",
   "execution_count": 21,
   "metadata": {},
   "outputs": [],
   "source": [
    "import timeit                                   # Used in timer_function to test code execution times\n",
    "import numpy as np                              # Numerical processing library\n",
    "import matplotlib.pyplot as plt                 # Matplotlib plotting library\n",
    "from functools import partial\n",
    "\n",
    "###Helper functions \n",
    "def drag_race(number, repeats, functions, args_lists, sig_figs=3, share_args=False):\n",
    "    \"\"\"\n",
    "    Runs timeit.repeat on each function in the the input list 'functions' a specified number of times and \n",
    "    prints the minimum runtime for each func\n",
    "    \n",
    "    # Arguments:\n",
    "    number:     Number of times to run the functions per repeat.\n",
    "    repeats:    Number of times to time the function (each time function is timed it is run 'number' times).\n",
    "    functions:  The functions to be timed, in format [function_name_1, function_name_2].\n",
    "    args_lists: Arguments to pass to the functions using format [[F1-arg1, F1-arg2], [F2-arg1, F2-arg2, F2-arg3]] Unless all \n",
    "                functions take same arguments in which case pass [[shared_arg1, shared_arg2]] and then also set share_args=True.\n",
    "    sig_figs:   Sets the number of significant figures for the printed results readout [Default=3].\n",
    "    share_args: If all functions share the same argumnets then passing share_args=True allows user to only input them once and they are used for all fucntions [Default=False].\n",
    "    \n",
    "    # Returns:\n",
    "    No values are returned instead function automatically prints statment with function names and min runtimes.\n",
    "    \"\"\"\n",
    "    \n",
    "    if share_args == True:\n",
    "        args_lists = args_lists * len(functions)  # If share args is used the single set of arguments is copied for the numebr of function requiring them\n",
    "        \n",
    "    for i, function in enumerate(functions):\n",
    "        function_partial = partial(function, *args_lists[i])\n",
    "        run_times = timeit.repeat(function_partial, number=number, repeat=repeats)\n",
    "        min_time = min(run_times)/number\n",
    "\n",
    "        print(\"\\nFunction: {}\\nRuntime: {} ms (minimum result over {} runs)\".format(function.__name__, round(min_time*1000, sig_figs), repeats))"
   ]
  },
  {
   "cell_type": "code",
   "execution_count": 22,
   "metadata": {},
   "outputs": [],
   "source": [
    "### update to use csr_matrix sparse matrix format\n",
    "import numpy as np\n",
    "from scipy.sparse import coo_matrix\n"
   ]
  },
  {
   "cell_type": "code",
   "execution_count": 23,
   "metadata": {},
   "outputs": [],
   "source": [
    "def create_grid_with_coordinates(coordinates, grid_shape):\n",
    "    grid = np.zeros(grid_shape, dtype=int)\n",
    "\n",
    "    for coord in coordinates:\n",
    "        x, y = coord\n",
    "        grid[y, x] = 1\n",
    "\n",
    "    return grid\n",
    "\n",
    "def create_sparse_grid_with_coordinates(coordinates, grid_shape):\n",
    "    y_coords, x_coords = zip(*coordinates)\n",
    "    data = np.ones(len(coordinates), dtype=int)\n",
    "    grid = coo_matrix((data, (y_coords, x_coords)), shape=grid_shape)\n",
    "    return grid\n",
    "\n",
    "# Example usage\n",
    "coordinates_list = [(0, 0), (1, 1), (2, 2), (3, 4)]\n",
    "grid_shape = (5, 5)  # Example shape, replace with your own dimensions\n",
    "\n",
    "\n"
   ]
  },
  {
   "cell_type": "code",
   "execution_count": 27,
   "metadata": {},
   "outputs": [
    {
     "ename": "TypeError",
     "evalue": "create_grid_with_coordinates() takes 2 positional arguments but 4 were given",
     "output_type": "error",
     "traceback": [
      "\u001b[1;31m---------------------------------------------------------------------------\u001b[0m",
      "\u001b[1;31mTypeError\u001b[0m                                 Traceback (most recent call last)",
      "Cell \u001b[1;32mIn[27], line 3\u001b[0m\n\u001b[0;32m      1\u001b[0m functions \u001b[39m=\u001b[39m [create_grid_with_coordinates, create_sparse_grid_with_coordinates]\n\u001b[0;32m      2\u001b[0m args_lists \u001b[39m=\u001b[39m [(coordinates_list), grid_shape]\n\u001b[1;32m----> 3\u001b[0m drag_race(\u001b[39m10\u001b[39;49m, \u001b[39m10\u001b[39;49m, functions, args_lists, sig_figs\u001b[39m=\u001b[39;49m\u001b[39m3\u001b[39;49m, share_args\u001b[39m=\u001b[39;49m\u001b[39mTrue\u001b[39;49;00m)\n",
      "Cell \u001b[1;32mIn[21], line 30\u001b[0m, in \u001b[0;36mdrag_race\u001b[1;34m(number, repeats, functions, args_lists, sig_figs, share_args)\u001b[0m\n\u001b[0;32m     28\u001b[0m \u001b[39mfor\u001b[39;00m i, function \u001b[39min\u001b[39;00m \u001b[39menumerate\u001b[39m(functions):\n\u001b[0;32m     29\u001b[0m     function_partial \u001b[39m=\u001b[39m partial(function, \u001b[39m*\u001b[39margs_lists[i])\n\u001b[1;32m---> 30\u001b[0m     run_times \u001b[39m=\u001b[39m timeit\u001b[39m.\u001b[39;49mrepeat(function_partial, number\u001b[39m=\u001b[39;49mnumber, repeat\u001b[39m=\u001b[39;49mrepeats)\n\u001b[0;32m     31\u001b[0m     min_time \u001b[39m=\u001b[39m \u001b[39mmin\u001b[39m(run_times)\u001b[39m/\u001b[39mnumber\n\u001b[0;32m     33\u001b[0m     \u001b[39mprint\u001b[39m(\u001b[39m\"\u001b[39m\u001b[39m\\n\u001b[39;00m\u001b[39mFunction: \u001b[39m\u001b[39m{}\u001b[39;00m\u001b[39m\\n\u001b[39;00m\u001b[39mRuntime: \u001b[39m\u001b[39m{}\u001b[39;00m\u001b[39m ms (minimum result over \u001b[39m\u001b[39m{}\u001b[39;00m\u001b[39m runs)\u001b[39m\u001b[39m\"\u001b[39m\u001b[39m.\u001b[39mformat(function\u001b[39m.\u001b[39m\u001b[39m__name__\u001b[39m, \u001b[39mround\u001b[39m(min_time\u001b[39m*\u001b[39m\u001b[39m1000\u001b[39m, sig_figs), repeats))\n",
      "File \u001b[1;32mc:\\Users\\Ada\\AppData\\Local\\Programs\\Python\\Python310\\lib\\timeit.py:239\u001b[0m, in \u001b[0;36mrepeat\u001b[1;34m(stmt, setup, timer, repeat, number, globals)\u001b[0m\n\u001b[0;32m    236\u001b[0m \u001b[39mdef\u001b[39;00m \u001b[39mrepeat\u001b[39m(stmt\u001b[39m=\u001b[39m\u001b[39m\"\u001b[39m\u001b[39mpass\u001b[39m\u001b[39m\"\u001b[39m, setup\u001b[39m=\u001b[39m\u001b[39m\"\u001b[39m\u001b[39mpass\u001b[39m\u001b[39m\"\u001b[39m, timer\u001b[39m=\u001b[39mdefault_timer,\n\u001b[0;32m    237\u001b[0m            repeat\u001b[39m=\u001b[39mdefault_repeat, number\u001b[39m=\u001b[39mdefault_number, \u001b[39mglobals\u001b[39m\u001b[39m=\u001b[39m\u001b[39mNone\u001b[39;00m):\n\u001b[0;32m    238\u001b[0m \u001b[39m    \u001b[39m\u001b[39m\"\"\"Convenience function to create Timer object and call repeat method.\"\"\"\u001b[39;00m\n\u001b[1;32m--> 239\u001b[0m     \u001b[39mreturn\u001b[39;00m Timer(stmt, setup, timer, \u001b[39mglobals\u001b[39;49m)\u001b[39m.\u001b[39;49mrepeat(repeat, number)\n",
      "File \u001b[1;32mc:\\Users\\Ada\\AppData\\Local\\Programs\\Python\\Python310\\lib\\timeit.py:206\u001b[0m, in \u001b[0;36mTimer.repeat\u001b[1;34m(self, repeat, number)\u001b[0m\n\u001b[0;32m    204\u001b[0m r \u001b[39m=\u001b[39m []\n\u001b[0;32m    205\u001b[0m \u001b[39mfor\u001b[39;00m i \u001b[39min\u001b[39;00m \u001b[39mrange\u001b[39m(repeat):\n\u001b[1;32m--> 206\u001b[0m     t \u001b[39m=\u001b[39m \u001b[39mself\u001b[39;49m\u001b[39m.\u001b[39;49mtimeit(number)\n\u001b[0;32m    207\u001b[0m     r\u001b[39m.\u001b[39mappend(t)\n\u001b[0;32m    208\u001b[0m \u001b[39mreturn\u001b[39;00m r\n",
      "File \u001b[1;32mc:\\Users\\Ada\\AppData\\Local\\Programs\\Python\\Python310\\lib\\timeit.py:178\u001b[0m, in \u001b[0;36mTimer.timeit\u001b[1;34m(self, number)\u001b[0m\n\u001b[0;32m    176\u001b[0m gc\u001b[39m.\u001b[39mdisable()\n\u001b[0;32m    177\u001b[0m \u001b[39mtry\u001b[39;00m:\n\u001b[1;32m--> 178\u001b[0m     timing \u001b[39m=\u001b[39m \u001b[39mself\u001b[39;49m\u001b[39m.\u001b[39;49minner(it, \u001b[39mself\u001b[39;49m\u001b[39m.\u001b[39;49mtimer)\n\u001b[0;32m    179\u001b[0m \u001b[39mfinally\u001b[39;00m:\n\u001b[0;32m    180\u001b[0m     \u001b[39mif\u001b[39;00m gcold:\n",
      "File \u001b[1;32m<timeit-src>:6\u001b[0m, in \u001b[0;36minner\u001b[1;34m(_it, _timer, _stmt)\u001b[0m\n",
      "\u001b[1;31mTypeError\u001b[0m: create_grid_with_coordinates() takes 2 positional arguments but 4 were given"
     ]
    }
   ],
   "source": [
    "functions = [create_grid_with_coordinates, create_sparse_grid_with_coordinates]\n",
    "args_lists = [coordinates_list, grid_shape]\n",
    "drag_race(10, 10, functions, args_lists, sig_figs=3, share_args=True)"
   ]
  },
  {
   "cell_type": "code",
   "execution_count": 25,
   "metadata": {},
   "outputs": [
    {
     "name": "stdout",
     "output_type": "stream",
     "text": [
      "[[1 0 0 0 0]\n",
      " [0 1 0 0 0]\n",
      " [0 0 1 0 0]\n",
      " [0 0 0 0 0]\n",
      " [0 0 0 1 0]]\n"
     ]
    }
   ],
   "source": [
    "\n",
    "grid_array = create_grid_with_coordinates(coordinates_list, grid_shape)\n",
    "print(grid_array)"
   ]
  },
  {
   "cell_type": "code",
   "execution_count": 8,
   "metadata": {},
   "outputs": [
    {
     "name": "stdout",
     "output_type": "stream",
     "text": [
      "[[1 0 0 0 0]\n",
      " [0 1 0 0 0]\n",
      " [0 0 1 0 0]\n",
      " [0 0 0 0 1]\n",
      " [0 0 0 0 0]]\n"
     ]
    }
   ],
   "source": [
    "sparse_grid = create_sparse_grid_with_coordinates(coordinates_list, grid_shape)\n",
    "print(sparse_grid.toarray())"
   ]
  },
  {
   "cell_type": "code",
   "execution_count": null,
   "metadata": {},
   "outputs": [
    {
     "name": "stdout",
     "output_type": "stream",
     "text": [
      "[(0, 0), (1, 1), (2, 2), (3, 4)]\n"
     ]
    }
   ],
   "source": [
    "def extract_coordinates_from_grid(grid):\n",
    "    coordinates = []\n",
    "\n",
    "    for y, row in enumerate(grid):\n",
    "        for x, value in enumerate(row):\n",
    "            if value == 1:\n",
    "                coordinates.append((x, y))\n",
    "\n",
    "    return coordinates\n",
    "\n",
    "coordinates = extract_coordinates_from_grid(grid_array)\n",
    "print(coordinates)\n"
   ]
  },
  {
   "cell_type": "code",
   "execution_count": null,
   "metadata": {},
   "outputs": [],
   "source": []
  }
 ],
 "metadata": {
  "kernelspec": {
   "display_name": "Python 3",
   "language": "python",
   "name": "python3"
  },
  "language_info": {
   "codemirror_mode": {
    "name": "ipython",
    "version": 3
   },
   "file_extension": ".py",
   "mimetype": "text/x-python",
   "name": "python",
   "nbconvert_exporter": "python",
   "pygments_lexer": "ipython3",
   "version": "3.10.9"
  },
  "orig_nbformat": 4
 },
 "nbformat": 4,
 "nbformat_minor": 2
}
