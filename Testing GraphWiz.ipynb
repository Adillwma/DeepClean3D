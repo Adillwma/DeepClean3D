{
 "cells": [
  {
   "cell_type": "code",
   "execution_count": 14,
   "metadata": {},
   "outputs": [],
   "source": [
    "#%% - GraphViz\n",
    "import os\n",
    "import torch\n",
    "from torchviz import make_dot\n",
    "\n",
    "def Graphwiz_visulisation(encoder, decoder, double_precision, batch_size, x_dim, y_dim, output_folder):\n",
    "    \"\"\"\n",
    "    Using GraphViz: GraphViz is a popular open-source graph visualization software that can be used to visualize the \n",
    "    structure of your PyTorch autoencoder network. You can use the torchviz package to generate a GraphViz dot file from \n",
    "    your PyTorch model and then use the dot command-line tool to generate a PNG image of the graph.:\n",
    "    \"\"\"\n",
    "    \n",
    "    ##### WORKING ######\n",
    "    # Join the encoder and decoder models\n",
    "    model = torch.nn.Sequential(encoder, decoder)\n",
    "\n",
    "    # Generate a dot file from the model\n",
    "    dtype = torch.float64 if double_precision else torch.float32\n",
    "    x = torch.randn(batch_size, 1, 128, 88, dtype=dtype) # dummy input tensor\n",
    "    dot = make_dot(model(x), params=dict(model.named_parameters()), show_attrs=True, show_saved=True)\n",
    "\n",
    "    # Save the dot file\n",
    "    dot.render('network_model_graph', output_folder, format='png', cleanup=True)\n",
    "\n",
    "\n",
    "\"\"\"\n",
    "from DC3D_V3.Autoencoders.DC3D_Autoencoder_V1_Protected2_2 import Encoder, Decoder\n",
    "\n",
    "encoder = Encoder(10, False)\n",
    "decoder = Decoder(10, False)\n",
    "double_precision = False\n",
    "batch_size = 10\n",
    "x_dim = 88\n",
    "y_dim = 128\n",
    "output_folder = 'Graphwiz/'\n",
    "\n",
    "Graphwiz_visulisation(encoder, decoder, double_precision, batch_size, x_dim, y_dim, output_folder)\n",
    "\n",
    "\"\"\""
   ]
  },
  {
   "cell_type": "code",
   "execution_count": null,
   "metadata": {},
   "outputs": [],
   "source": []
  }
 ],
 "metadata": {
  "kernelspec": {
   "display_name": "Python 3",
   "language": "python",
   "name": "python3"
  },
  "language_info": {
   "codemirror_mode": {
    "name": "ipython",
    "version": 3
   },
   "file_extension": ".py",
   "mimetype": "text/x-python",
   "name": "python",
   "nbconvert_exporter": "python",
   "pygments_lexer": "ipython3",
   "version": "3.10.9"
  },
  "orig_nbformat": 4
 },
 "nbformat": 4,
 "nbformat_minor": 2
}
