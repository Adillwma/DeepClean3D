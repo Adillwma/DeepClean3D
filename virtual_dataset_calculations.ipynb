{
 "cells": [
  {
   "cell_type": "code",
   "execution_count": 104,
   "metadata": {},
   "outputs": [
    {
     "name": "stdout",
     "output_type": "stream",
     "text": [
      "There are 2429608192173745103270389838576750719302222606198631438800 possible choices when selecting 30 points out of 1000 at random.\n",
      "The probability of choosing the specific set of points in one try is 1/2429608192173745103270389838576750719302222606198631438800.\n",
      "Probability of the result occurring twice or more in 10000 attempts: -4.1158899744460876e-54\n"
     ]
    }
   ],
   "source": [
    "import math\n",
    "\n",
    "def calculate_probability_twice_or_more(T, N, R):\n",
    "\n",
    "    # Calculate the number of possible choices\n",
    "    num_choices = math.comb(T, N)\n",
    "    \n",
    "    # Calculate the probability of choosing the specific set of points in one try\n",
    "    p = 1 / num_choices\n",
    "\n",
    "    # Calculate the probability of 0 occurrences\n",
    "    prob_0 = (1 - p) ** R\n",
    "\n",
    "    # Calculate the probability of 1 occurrence\n",
    "    prob_1 = R * p * (1 - p) ** (R - 1)\n",
    "\n",
    "    # Calculate the probability of the result occurring twice or more\n",
    "    prob_twice_or_more = 1 - prob_0 - prob_1\n",
    "\n",
    "    print(f\"There are {num_choices} possible choices when selecting {N} points out of {T} at random.\")\n",
    "    print(f\"The probability of choosing the specific set of points in one try is 1/{num_choices}.\")\n",
    "    print(f\"Probability of the result occurring twice or more in {R} attempts: {prob_twice_or_more}\")\n",
    "\n",
    "    return prob_twice_or_more\n",
    "\n",
    "# Example usage:\n",
    "T = 1000  # Number of possible choices\n",
    "N = 30   # Number of values selected\n",
    "R = 10000   # Number of times the process is repeated\n",
    "\n",
    "result = calculate_probability_twice_or_more(T, N, R)\n",
    "\n",
    "### BROKEN WITH LARGE VALUES DUE TO FP ERRORS ###\n"
   ]
  },
  {
   "cell_type": "code",
   "execution_count": 109,
   "metadata": {},
   "outputs": [
    {
     "name": "stdout",
     "output_type": "stream",
     "text": [
      "There are 3253215754299955884534500580299601673059442134171635682543627213600 possible choices when selecting 30 points out of 2000 at random.\n",
      "The probability of choosing the specific set of points in one try is 1/3253215754299955884534500580299601673059442134171635682543627213600.\n",
      "Probability of the result occurring twice or more in 1000000 attempts: 4.72436927570703226422768161210407661558706625769841440561434843537164669524162746219719933945240745912775140235358087872029351841564851945645880152028033818442500404178900572552164991959820722107056881068171735796252494098698638947807733850993953400448891109292968688535981726380880585832256367589345e-122\n"
     ]
    },
    {
     "data": {
      "text/plain": [
       "mpf('4.7243692757070322642276816121040766155870662576984144056143484353716466952416274621971993394524074591277514023535808787202935184156485194564588015202803381844250040417890057255216499195982072210705688106817173579625249409869863894780773385099395340044889110929296868853598172638088058583225636758934471e-122')"
      ]
     },
     "execution_count": 109,
     "metadata": {},
     "output_type": "execute_result"
    }
   ],
   "source": [
    "#### USING MPMATH FOR ARBITRARY PRECISION ####\n",
    "\n",
    "\n",
    "import math\n",
    "from mpmath import mp\n",
    "\n",
    "def calculate_probability_twice_or_more(T, N, R):\n",
    "    mp.dps = 300  # Setting a high precision\n",
    "\n",
    "    # Calculate the number of possible choices\n",
    "    num_choices = math.comb(T, N)\n",
    "    \n",
    "    # Calculate the probability of choosing the specific set of points in one try\n",
    "    p = mp.mpf(1) / mp.mpf(num_choices)\n",
    "\n",
    "    # Calculate the probability of 0 occurrences\n",
    "    prob_0 = (mp.mpf(1) - p) ** R\n",
    "\n",
    "    # Calculate the probability of 1 occurrence\n",
    "    prob_1 = R * p * (mp.mpf(1) - p) ** (R - 1)\n",
    "\n",
    "    # Calculate the probability of the result occurring twice or more\n",
    "    prob_twice_or_more = mp.mpf(1) - prob_0 - prob_1\n",
    "\n",
    "    print(f\"There are {num_choices} possible choices when selecting {N} points out of {T} at random.\")\n",
    "    print(f\"The probability of choosing the specific set of points in one try is 1/{num_choices}.\")\n",
    "    print(f\"Probability of the result occurring twice or more in {R} attempts: {prob_twice_or_more}\")\n",
    "\n",
    "    return prob_twice_or_more\n",
    "\n",
    "T = 2000     # Number of possible choices\n",
    "N = 30      # Number of values selected\n",
    "R = 1000000   # Number of times the process is repeated\n",
    "calculate_probability_twice_or_more(T, N, R)\n"
   ]
  },
  {
   "cell_type": "code",
   "execution_count": null,
   "metadata": {},
   "outputs": [],
   "source": [
    "\n"
   ]
  },
  {
   "cell_type": "markdown",
   "metadata": {},
   "source": [
    "Probability of the same set of signal points being chosen twice or more in 1,000,000 attempts: 4.7 x 10^-122"
   ]
  }
 ],
 "metadata": {
  "kernelspec": {
   "display_name": "Python 3",
   "language": "python",
   "name": "python3"
  },
  "language_info": {
   "codemirror_mode": {
    "name": "ipython",
    "version": 3
   },
   "file_extension": ".py",
   "mimetype": "text/x-python",
   "name": "python",
   "nbconvert_exporter": "python",
   "pygments_lexer": "ipython3",
   "version": "3.10.9"
  }
 },
 "nbformat": 4,
 "nbformat_minor": 2
}
