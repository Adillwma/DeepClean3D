{
 "cells": [
  {
   "cell_type": "code",
   "execution_count": 88,
   "metadata": {},
   "outputs": [
    {
     "name": "stdout",
     "output_type": "stream",
     "text": [
      "There are 10 possible choices when selecting 1 points out of 10 at random.\n",
      "The probability of choosing the specific set of points in one try is 1/10.\n",
      "Probability of the result occurring twice or more in 10000 attempts: 1.0\n"
     ]
    }
   ],
   "source": [
    "import math\n",
    "\n",
    "def calculate_probability_twice_or_more(T, N, R):\n",
    "\n",
    "    # Calculate the number of possible choices\n",
    "    num_choices = math.comb(T, N)\n",
    "    \n",
    "    # Calculate the probability of choosing the specific set of points in one try\n",
    "    p = 1 / num_choices\n",
    "\n",
    "    # Calculate the probability of 0 occurrences\n",
    "    prob_0 = (1 - p) ** R\n",
    "\n",
    "    # Calculate the probability of 1 occurrence\n",
    "    prob_1 = R * p * (1 - p) ** (R - 1)\n",
    "\n",
    "    # Calculate the probability of the result occurring twice or more\n",
    "    prob_twice_or_more = 1 - prob_0 - prob_1\n",
    "\n",
    "    print(f\"There are {num_choices} possible choices when selecting {N} points out of {T} at random.\")\n",
    "    print(f\"The probability of choosing the specific set of points in one try is 1/{num_choices}.\")\n",
    "    print(f\"Probability of the result occurring twice or more in {R} attempts: {prob_twice_or_more}\")\n",
    "\n",
    "    return prob_twice_or_more\n",
    "\n",
    "# Example usage:\n",
    "T = 10  # Number of possible choices\n",
    "N = 1   # Number of values selected\n",
    "R = 10000   # Number of times the process is repeated\n",
    "\n",
    "result = calculate_probability_twice_or_more(T, N, R)\n",
    "\n",
    "\n"
   ]
  },
  {
   "cell_type": "code",
   "execution_count": null,
   "metadata": {},
   "outputs": [],
   "source": []
  }
 ],
 "metadata": {
  "kernelspec": {
   "display_name": "Python 3",
   "language": "python",
   "name": "python3"
  },
  "language_info": {
   "codemirror_mode": {
    "name": "ipython",
    "version": 3
   },
   "file_extension": ".py",
   "mimetype": "text/x-python",
   "name": "python",
   "nbconvert_exporter": "python",
   "pygments_lexer": "ipython3",
   "version": "3.10.9"
  }
 },
 "nbformat": 4,
 "nbformat_minor": 2
}
