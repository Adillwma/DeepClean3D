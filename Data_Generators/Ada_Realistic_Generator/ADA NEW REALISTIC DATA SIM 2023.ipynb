{
 "cells": [
  {
   "cell_type": "code",
   "execution_count": 1,
   "metadata": {},
   "outputs": [],
   "source": [
    "import numpy as np\n",
    "import matplotlib.pyplot as plt\n",
    "from tqdm import tqdm\n",
    "import random\n",
    "import os\n",
    "\n",
    "def get_wrapped_num(num, width):\n",
    "    remainder = num % (2*width)\n",
    "    if remainder < width:\n",
    "        return remainder\n",
    "    else:\n",
    "        return 2 * width - remainder - 1 \n",
    "\n",
    "\n",
    "def angle_to_ratio(angle):\n",
    "    rad = angle * np.pi / 180\n",
    "    x = int(np.sin(rad) *100)\n",
    "    y = int(np.cos(rad) *100)\n",
    "    return x, y \n",
    "\n",
    "def reconstruct_3D(data):\n",
    "    data_output = []\n",
    "    for cdx, row in enumerate(data):\n",
    "        for idx, num in enumerate(row):\n",
    "            if num > 0:\n",
    "                data_output.append([cdx,idx,num])\n",
    "    return np.array(data_output)\n",
    "\n",
    "\n",
    "def plot_3d(file):\n",
    "    file3d = reconstruct_3D(file)\n",
    "    fig  = plt.figure()\n",
    "    ax = fig.add_subplot(111, projection='3d')\n",
    "    ax.scatter(file3d[:,0], file3d[:,1], file3d[:,2], s=2, alpha=1)\n",
    "    plt.show()\n",
    "\n",
    "# REPLACE UP AND SIDEWAYS WITH ANGLE\n",
    "def make_file(angle, up, sideways, x_dim, y_dim, t_dim, show=False, origin=None):\n",
    "    file = np.zeros((y_dim,x_dim))\n",
    "\n",
    "    if origin == None:\n",
    "        origin_x = random.randint(0, x_dim-1)\n",
    "        origin_y = random.randint(0, y_dim-1)\n",
    "        origin_t = random.randint(0, t_dim-1)\n",
    "\n",
    "    else:\n",
    "        origin_x = origin[0]\n",
    "        origin_y = origin[1]\n",
    "        origin_t = origin[2]\n",
    "        \n",
    "    file[origin_y, origin_x] = origin_t\n",
    "\n",
    "    #up, sideways = angle_to_ratio(angle)\n",
    "    #print(up, sideways)\n",
    "    \n",
    "    nudge_x = 0\n",
    "    nudge_y = 0\n",
    "    i=0\n",
    "    t_pos = origin_t\n",
    "    y_pos = origin_y\n",
    "    while y_pos > 0 and t_pos < t_dim-1:\n",
    "        i = i+1\n",
    "        if i % up == 0:\n",
    "            nudge_x=nudge_x+1\n",
    "        if i % sideways == 0:\n",
    "            nudge_y=nudge_y+1\n",
    "\n",
    "        if i % max(up, sideways) == 0:\n",
    "            y_pos = origin_y-nudge_y\n",
    "            t_pos = t_pos + 1\n",
    "            x1 = get_wrapped_num(origin_x-nudge_x, x_dim)\n",
    "            x2 = get_wrapped_num(origin_x+nudge_x, x_dim)\n",
    "            file[y_pos, x1] = t_pos\n",
    "            file[y_pos, x2] = t_pos\n",
    "\n",
    "    if show:\n",
    "        plt.imshow(file)\n",
    "        plt.show()\n",
    "        plot_3d(file)\n",
    "    return file"
   ]
  },
  {
   "cell_type": "code",
   "execution_count": 2,
   "metadata": {},
   "outputs": [
    {
     "name": "stderr",
     "output_type": "stream",
     "text": [
      "  0%|          | 148/1000000 [00:00<11:15, 1480.00it/s]"
     ]
    },
    {
     "name": "stderr",
     "output_type": "stream",
     "text": [
      "100%|██████████| 1000000/1000000 [27:59<00:00, 595.35it/s] \n"
     ]
    }
   ],
   "source": [
    "#%% Inputs\n",
    "x_dim = 88\n",
    "y_dim = 128\n",
    "t_dim = 1000\n",
    "save_path = r\"N:\\Yr 3 Project Datasets\\RDT_200K\\Data\\\\\"\n",
    "angle = 45 \n",
    "num_of_files = 200000\n",
    "origin = None    #Set to none to have random origins, or input coordinates (x,y, ToF)\n",
    "\n",
    "\n",
    "os.makedirs(save_path, exist_ok=True)\n",
    "for i in tqdm(range (0,num_of_files)):\n",
    "    \n",
    "    up =  random.randint(1,1) #1\n",
    "    sideways =  random.randint(3, 3) #1\n",
    "\n",
    "    file_fin = make_file(angle, up, sideways, x_dim, y_dim, t_dim, show=False, origin=origin)\n",
    "\n",
    "    #save the numpy file as a .npy file \n",
    "    np.save(save_path + f\"{i}.npy\", file_fin)"
   ]
  },
  {
   "cell_type": "code",
   "execution_count": null,
   "metadata": {},
   "outputs": [],
   "source": []
  },
  {
   "cell_type": "code",
   "execution_count": null,
   "metadata": {},
   "outputs": [],
   "source": []
  },
  {
   "cell_type": "code",
   "execution_count": null,
   "metadata": {},
   "outputs": [],
   "source": []
  },
  {
   "cell_type": "code",
   "execution_count": null,
   "metadata": {},
   "outputs": [],
   "source": []
  }
 ],
 "metadata": {
  "kernelspec": {
   "display_name": "Python 3",
   "language": "python",
   "name": "python3"
  },
  "language_info": {
   "codemirror_mode": {
    "name": "ipython",
    "version": 3
   },
   "file_extension": ".py",
   "mimetype": "text/x-python",
   "name": "python",
   "nbconvert_exporter": "python",
   "pygments_lexer": "ipython3",
   "version": "3.10.9"
  },
  "orig_nbformat": 4
 },
 "nbformat": 4,
 "nbformat_minor": 2
}
