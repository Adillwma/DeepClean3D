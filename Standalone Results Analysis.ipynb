{
 "cells": [
  {
   "cell_type": "code",
   "execution_count": 1,
   "metadata": {},
   "outputs": [
    {
     "name": "stderr",
     "output_type": "stream",
     "text": [
      "Testing Model: 0it [00:00, ?it/s]"
     ]
    },
    {
     "name": "stdout",
     "output_type": "stream",
     "text": [
      "Running Model: S1 10K\n",
      "Settings loaded successfully!\n",
      "\n"
     ]
    },
    {
     "name": "stderr",
     "output_type": "stream",
     "text": [
      "Testing Model: 1it [12:21, 741.17s/it]"
     ]
    },
    {
     "name": "stdout",
     "output_type": "stream",
     "text": [
      "Running Model: S2 10K\n",
      "Settings loaded successfully!\n",
      "\n"
     ]
    },
    {
     "name": "stderr",
     "output_type": "stream",
     "text": [
      "Testing Model: 2it [16:23, 447.74s/it]"
     ]
    },
    {
     "name": "stdout",
     "output_type": "stream",
     "text": [
      "Running Model: S3 10K\n",
      "Settings loaded successfully!\n",
      "\n"
     ]
    },
    {
     "name": "stderr",
     "output_type": "stream",
     "text": [
      "                                      \r"
     ]
    },
    {
     "name": "stdout",
     "output_type": "stream",
     "text": [
      "Data Gathering Completed\n",
      "Analysing Results\n"
     ]
    },
    {
     "name": "stderr",
     "output_type": "stream",
     "text": [
      "a:\\Users\\Ada\\GitHub\\DeepClean_Repo\\DC3D_V3\\Helper_files\\model_perf_analysis2.py:530: FutureWarning: save is not part of the public API, usage can give unexpected results and will be removed in a future version\n",
      "  excel_writer.save()    #####ERROR !!! .save is not in public API ad in future will be removed! FIX FIX FIX\n",
      "c:\\Users\\Ada\\AppData\\Local\\Programs\\Python\\Python310\\lib\\site-packages\\openpyxl\\worksheet\\_writer.py:274: UserWarning: File may not be readable: column headings must be strings.\n",
      "  warn(\"File may not be readable: column headings must be strings.\")\n"
     ]
    },
    {
     "name": "stdout",
     "output_type": "stream",
     "text": [
      "Analysis Finished\n",
      "\n",
      "\n"
     ]
    }
   ],
   "source": [
    "from DC3D_V3.Helper_files.model_perf_analysis2 import run_full_perf_tests\n",
    "\n",
    "num_files = 10000\n",
    "plot = 100 \n",
    "save_recovered_data = False\n",
    "debug_mode = False\n",
    "output_file_path = r'N:\\Yr 3 Project Results\\S1 S2 S3 Results\\\\'\n",
    "dataset_dir = (r\"N:\\\\Yr 3 Project Datasets\\\\PERF VALIDATION SETS\\\\10K 100N 30S\\\\\")\n",
    "\n",
    "model_names = [\"S1 10K\", \n",
    "               \"S2 10K\",\n",
    "               \"S3 10K\"]\n",
    "\n",
    "pretrained_model_folder_paths = [r'N:\\Yr 3 Project Results\\RDT 10K 1000ToF timed - Training Results\\Model_Deployment\\\\', \n",
    "                                 r'N:\\Yr 3 Project Results\\RDT 10K S2 - Training Results\\Model_Deployment\\\\', \n",
    "                                 r'N:\\Yr 3 Project Results\\RDT S3 - Training Results\\Model_Deployment\\\\'\n",
    "                                 ]  \n",
    "\n",
    "run_full_perf_tests(num_files, \n",
    "                    plot, \n",
    "                    save_recovered_data, \n",
    "                    dataset_dir, \n",
    "                    output_file_path, \n",
    "                    model_names, \n",
    "                    pretrained_model_folder_paths,  \n",
    "                    debug_mode)\n"
   ]
  }
 ],
 "metadata": {
  "kernelspec": {
   "display_name": "Python 3",
   "language": "python",
   "name": "python3"
  },
  "language_info": {
   "codemirror_mode": {
    "name": "ipython",
    "version": 3
   },
   "file_extension": ".py",
   "mimetype": "text/x-python",
   "name": "python",
   "nbconvert_exporter": "python",
   "pygments_lexer": "ipython3",
   "version": "3.10.9"
  },
  "orig_nbformat": 4
 },
 "nbformat": 4,
 "nbformat_minor": 2
}
