{
 "cells": [
  {
   "cell_type": "code",
   "execution_count": 1,
   "metadata": {},
   "outputs": [
    {
     "name": "stderr",
     "output_type": "stream",
     "text": [
      "Testing Model: 0it [00:00, ?it/s]"
     ]
    },
    {
     "name": "stdout",
     "output_type": "stream",
     "text": [
      "Running Model: RDT 10K 1000ToF timed\n",
      "Settings loaded successfully!\n",
      "\n"
     ]
    },
    {
     "name": "stderr",
     "output_type": "stream",
     "text": [
      "Testing Model: 1it [01:54, 114.15s/it]"
     ]
    },
    {
     "name": "stdout",
     "output_type": "stream",
     "text": [
      "Running Model: RDT 100K 1000ToF timed\n",
      "Settings loaded successfully!\n",
      "\n"
     ]
    },
    {
     "name": "stderr",
     "output_type": "stream",
     "text": [
      "Testing Model: 2it [03:04, 88.13s/it] "
     ]
    },
    {
     "name": "stdout",
     "output_type": "stream",
     "text": [
      "Running Model: RDT 500K 1000ToF timed\n",
      "Settings loaded successfully!\n",
      "\n"
     ]
    },
    {
     "name": "stderr",
     "output_type": "stream",
     "text": [
      "                                     \r"
     ]
    },
    {
     "name": "stdout",
     "output_type": "stream",
     "text": [
      "Data Gathering Completed\n",
      "Analysing Results\n"
     ]
    },
    {
     "name": "stderr",
     "output_type": "stream",
     "text": [
      "a:\\Users\\Ada\\GitHub\\DeepClean_Repo\\DC3D_V3\\Helper_files\\model_perf_analysis2.py:519: FutureWarning: save is not part of the public API, usage can give unexpected results and will be removed in a future version\n",
      "  excel_writer.save()    #####ERROR !!! .save is not in public API ad in future will be removed! FIX FIX FIX\n",
      "c:\\Users\\Ada\\AppData\\Local\\Programs\\Python\\Python310\\lib\\site-packages\\openpyxl\\worksheet\\_writer.py:274: UserWarning: File may not be readable: column headings must be strings.\n",
      "  warn(\"File may not be readable: column headings must be strings.\")\n"
     ]
    },
    {
     "name": "stdout",
     "output_type": "stream",
     "text": [
      "Analysis Finished\n",
      "\n",
      "\n"
     ]
    }
   ],
   "source": [
    "from DC3D_V3.Helper_files.model_perf_analysis2 import run_full_perf_tests\n",
    "\n",
    "num_files = 1000\n",
    "plot = 100 \n",
    "save_recovered_data= True\n",
    "dataset_dir = (r\"N:\\\\Yr 3 Project Datasets\\\\PERF VALIDATION SETS\\\\10K 100N 30S\\\\\")\n",
    "output_file_path = r'Standalone_test_results\\\\'\n",
    "model_names = [\"RDT 10K 1000ToF timed\", \"RDT 100K 1000ToF timed\", \"RDT 500K 1000ToF timed\"]\n",
    "pretrained_model_folder_paths = [r'N:\\Yr 3 Project Results\\RDT 10K 1000ToF timed - Training Results\\Model_Deployment\\\\', r'N:\\Yr 3 Project Results\\RDT 100K 1000ToF timed - Training Results\\Model_Deployment\\\\', r'N:\\Yr 3 Project Results\\RDT 500K 1000ToF timed - Training Results\\Model_Deployment\\\\']  \n",
    "debug_mode = False\n",
    "\n",
    "\n",
    "run_full_perf_tests(num_files, \n",
    "                    plot, \n",
    "                    save_recovered_data, \n",
    "                    dataset_dir, \n",
    "                    output_file_path, \n",
    "                    model_names, \n",
    "                    pretrained_model_folder_paths,  \n",
    "                    debug_mode)\n"
   ]
  }
 ],
 "metadata": {
  "kernelspec": {
   "display_name": "Python 3",
   "language": "python",
   "name": "python3"
  },
  "language_info": {
   "codemirror_mode": {
    "name": "ipython",
    "version": 3
   },
   "file_extension": ".py",
   "mimetype": "text/x-python",
   "name": "python",
   "nbconvert_exporter": "python",
   "pygments_lexer": "ipython3",
   "version": "3.10.9"
  },
  "orig_nbformat": 4
 },
 "nbformat": 4,
 "nbformat_minor": 2
}
