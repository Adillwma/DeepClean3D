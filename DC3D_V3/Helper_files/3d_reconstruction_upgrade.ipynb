{
 "cells": [
  {
   "cell_type": "code",
   "execution_count": 15,
   "metadata": {},
   "outputs": [
    {
     "name": "stdout",
     "output_type": "stream",
     "text": [
      "Both methods produce the same results.\n",
      "Original method time: 51.441483 seconds\n",
      "Optimized method time: 1.167374 seconds\n"
     ]
    }
   ],
   "source": [
    "import numpy as np\n",
    "import time\n",
    "\n",
    "# Original method\n",
    "def reconstruct_3D_original(*args):\n",
    "    results = []\n",
    "    for data in args:\n",
    "        data_output = []\n",
    "        for cdx, row in enumerate(data):\n",
    "            for idx, num in enumerate(row):\n",
    "                if num > 0:  \n",
    "                    data_output.append([cdx, idx, num])\n",
    "        results.append(np.array(data_output))\n",
    "    return results\n",
    "\n",
    "# Optimized method\n",
    "def reconstruct_3D_optimized(*args):\n",
    "    results = []\n",
    "    for data in args:\n",
    "        res = np.nonzero(data > 0)\n",
    "        data_output = np.column_stack((res[0], res[1], data[res]))\n",
    "        results.append(data_output)\n",
    "    return results\n",
    "\n",
    "# Function to generate random test data\n",
    "def generate_test_data(shape, num_arrays):\n",
    "    return [np.random.random(shape) for _ in range(num_arrays)]\n",
    "\n",
    "# Function to compare outputs of both methods\n",
    "import timeit\n",
    "import numpy as np\n",
    "\n",
    "def compare_methods():\n",
    "    test_data = generate_test_data((128, 88), 5)\n",
    "\n",
    "    # Wrapper functions for timeit\n",
    "    def original_wrapper():\n",
    "        return reconstruct_3D_original(*test_data)\n",
    "\n",
    "    def optimized_wrapper():\n",
    "        return reconstruct_3D_optimized(*test_data)\n",
    "\n",
    "    # Time the original method\n",
    "    original_time = timeit.timeit(original_wrapper, number=1000)\n",
    "\n",
    "    # Time the optimized method\n",
    "    optimized_time = timeit.timeit(optimized_wrapper, number=1000)\n",
    "\n",
    "    # Get the results to verify they are the same\n",
    "    original_results = original_wrapper()\n",
    "    optimized_results = optimized_wrapper()\n",
    "\n",
    "    # Verify the results are the same\n",
    "    for orig, opt in zip(original_results, optimized_results):\n",
    "        if not np.array_equal(orig, opt):\n",
    "            print(\"Mismatch found between original and optimized results!\")\n",
    "            return\n",
    "\n",
    "    print(\"Both methods produce the same results.\")\n",
    "    print(f\"Original method time: {original_time:.6f} seconds\")\n",
    "    print(f\"Optimized method time: {optimized_time:.6f} seconds\")\n",
    "\n",
    "# Assuming generate_test_data, reconstruct_3D_original, and reconstruct_3D_optimized are defined\n",
    "\n",
    "\n",
    "# Run the comparison\n",
    "compare_methods()\n"
   ]
  },
  {
   "cell_type": "code",
   "execution_count": null,
   "metadata": {},
   "outputs": [],
   "source": []
  }
 ],
 "metadata": {
  "kernelspec": {
   "display_name": "Python 3",
   "language": "python",
   "name": "python3"
  },
  "language_info": {
   "codemirror_mode": {
    "name": "ipython",
    "version": 3
   },
   "file_extension": ".py",
   "mimetype": "text/x-python",
   "name": "python",
   "nbconvert_exporter": "python",
   "pygments_lexer": "ipython3",
   "version": "3.10.9"
  }
 },
 "nbformat": 4,
 "nbformat_minor": 2
}
