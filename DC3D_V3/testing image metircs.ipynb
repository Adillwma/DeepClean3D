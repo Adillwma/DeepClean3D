{
 "cells": [
  {
   "cell_type": "code",
   "execution_count": null,
   "metadata": {},
   "outputs": [],
   "source": []
  },
  {
   "cell_type": "code",
   "execution_count": null,
   "metadata": {},
   "outputs": [],
   "source": []
  },
  {
   "cell_type": "code",
   "execution_count": 1,
   "metadata": {},
   "outputs": [],
   "source": [
    "from Helper_files.Image_Metrics import compare_images_pixels\n"
   ]
  },
  {
   "cell_type": "code",
   "execution_count": 2,
   "metadata": {},
   "outputs": [],
   "source": [
    "# CREATE TENSOR WITH RANDOOM WAVLUES AND SHAPE (B, C, X, Y)\n",
    "import torch\n",
    "\n",
    "# Create a tensor of shape (B, C, X, Y) with random values\n",
    "B = 1\n",
    "C = 1\n",
    "X = 3\n",
    "Y = 3\n",
    "manual_seed = 42\n",
    "torch.manual_seed(manual_seed)\n",
    "\n",
    "random_tensor = torch.rand(B, C, X, Y)\n",
    "random_tensor2 = random_tensor.clone()\n",
    "random_tensor[0,0,0,0] = 0.0\n",
    "random_tensor[0,0,0,1] = 0\n",
    "random_tensor[0,0,0,2] = 0.0\n",
    "random_tensor[0,0,1,0] = 0.453\n",
    "\n",
    "random_tensor2[0,0,0,0] = 0.0"
   ]
  },
  {
   "cell_type": "code",
   "execution_count": 3,
   "metadata": {},
   "outputs": [
    {
     "name": "stdout",
     "output_type": "stream",
     "text": [
      "tensor([[[[0.0000, 0.0000, 0.0000],\n",
      "          [0.4530, 0.3904, 0.6009],\n",
      "          [0.2566, 0.7936, 0.9408]]]])\n",
      "tensor([[[[0.0000, 0.9150, 0.3829],\n",
      "          [0.9593, 0.3904, 0.6009],\n",
      "          [0.2566, 0.7936, 0.9408]]]])\n"
     ]
    }
   ],
   "source": [
    "\n",
    "\n",
    "print(random_tensor)\n",
    "print(random_tensor2)"
   ]
  },
  {
   "cell_type": "code",
   "execution_count": null,
   "metadata": {},
   "outputs": [],
   "source": []
  },
  {
   "cell_type": "code",
   "execution_count": 4,
   "metadata": {},
   "outputs": [
    {
     "name": "stdout",
     "output_type": "stream",
     "text": [
      "###TRUE HITS STATS###\n",
      "numof_true_hits: 6\n",
      "numof_true_positive_xy: 6\n",
      "false_negative_xy: 0\n",
      "percentage_of_true_positive_xy: 100.0%\n",
      "num_of_true_positive_tof: 5\n",
      "percentage_of_true_positive_tof: 83.33333333333334%\n",
      "\n",
      "###FALSE HIT STATS###\n",
      "number_of_true_zero_pixels: 3\n",
      "numof_false_positives_xy: 2\n",
      "percentage_of_false_positives_xy: 66.66666666666666%\n"
     ]
    },
    {
     "data": {
      "text/plain": [
       "(100.0, 83.33333333333334, 2)"
      ]
     },
     "execution_count": 4,
     "metadata": {},
     "output_type": "execute_result"
    }
   ],
   "source": [
    "compare_images_pixels(random_tensor, random_tensor2, terminal_print=True)"
   ]
  },
  {
   "cell_type": "code",
   "execution_count": null,
   "metadata": {},
   "outputs": [],
   "source": []
  },
  {
   "cell_type": "code",
   "execution_count": null,
   "metadata": {},
   "outputs": [],
   "source": []
  }
 ],
 "metadata": {
  "kernelspec": {
   "display_name": "Python 3",
   "language": "python",
   "name": "python3"
  },
  "language_info": {
   "codemirror_mode": {
    "name": "ipython",
    "version": 3
   },
   "file_extension": ".py",
   "mimetype": "text/x-python",
   "name": "python",
   "nbconvert_exporter": "python",
   "pygments_lexer": "ipython3",
   "version": "3.10.9"
  },
  "orig_nbformat": 4
 },
 "nbformat": 4,
 "nbformat_minor": 2
}
