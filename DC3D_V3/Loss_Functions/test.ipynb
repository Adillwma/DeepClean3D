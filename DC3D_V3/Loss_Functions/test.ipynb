{
 "cells": [
  {
   "cell_type": "code",
   "execution_count": 1,
   "metadata": {},
   "outputs": [],
   "source": [
    "\n",
    "import torch\n",
    "\n",
    "class NEWESTACB3dloss2024(torch.nn.Module):\n",
    "    def __init__(self, b, m, n):\n",
    "\n",
    "        \"\"\"\n",
    "        # Number of dp is related to timestep size. 1,000 = 3dp, 10,000 = 4dp, 100,000 = 5dp, 1,000,000 = 6dp etc\n",
    "        \n",
    "        \"\"\"\n",
    "        super().__init__()   \n",
    "        self.mse_loss = torch.nn.MSELoss(reduction='mean')\n",
    "        self.zero_weighting = 1\n",
    "        self.nonzero_weighting = 1\n",
    "\n",
    "\n",
    "        # create a batches tensor\n",
    "        batches = torch.arange(b).repeat_interleave(m*n).view(-1,1)\n",
    "\n",
    "        # Create indices tensor\n",
    "        indices = torch.stack( torch.meshgrid(torch.arange(m), torch.arange(n), indexing='ij'), dim=-1).view(-1, 2) \n",
    "        indices = indices.repeat(b, 1)\n",
    "\n",
    "        self.batches = batches  \n",
    "        self.indices = indices\n",
    "\n",
    "    def transform_to_3d_coordinates(self, input_tensor):\n",
    "        # Reshape the input tensor and concatenate with indices\n",
    "        output_tensor = torch.cat((self.batches, self.indices, input_tensor.reshape(-1, 1)), dim=1)\n",
    "\n",
    "        return output_tensor\n",
    "\n",
    "\n",
    "    def forward(self, reconstructed_image, target_image):\n",
    "        reconstructed_image = self.transform_to_3d_coordinates(reconstructed_image)\n",
    "        print(\"Reconstructed image: \", reconstructed_image)\n",
    "        target_image = self.transform_to_3d_coordinates(target_image)\n",
    "        print(\"\\nTarget image: \", target_image)\n",
    "\n",
    "        # target_image is a tensor of shape (m, 4)\n",
    "        # Example:\n",
    "        # target_image = np.array([[1, 2, 3, 4],\n",
    "        #                         [5, 6, 7, 0],\n",
    "        #                         [8, 9, 10, 11]])\n",
    "\n",
    "        # Identify 0 values in the 4th column of the second dimension\n",
    "\n",
    "        zero_mask = (target_image[:, 3] == 0)\n",
    "        nonzero_mask = ~zero_mask\n",
    "\n",
    "        values_zero = target_image[zero_mask]\n",
    "        values_nonzero = target_image[nonzero_mask]\n",
    "\n",
    "        corresponding_values_zero = reconstructed_image[zero_mask]\n",
    "        corresponding_values_nonzero = reconstructed_image[nonzero_mask]\n",
    "\n",
    "        zero_loss = self.mse_loss(corresponding_values_zero, values_zero)\n",
    "        nonzero_loss = self.mse_loss(corresponding_values_nonzero, values_nonzero)\n",
    "\n",
    "        if torch.isnan(zero_loss):\n",
    "            zero_loss = 0\n",
    "        if torch.isnan(nonzero_loss):\n",
    "            nonzero_loss = 0\n",
    "\n",
    "        weighted_mse_loss = (self.zero_weighting * zero_loss) + (self.nonzero_weighting * nonzero_loss)\n",
    "\n",
    "        return weighted_mse_loss\n"
   ]
  },
  {
   "cell_type": "code",
   "execution_count": 5,
   "metadata": {},
   "outputs": [
    {
     "name": "stdout",
     "output_type": "stream",
     "text": [
      "tensor([[[[0., 0.],\n",
      "          [0., 0.]]]])\n",
      "tensor([[[[0.1000, 0.2000],\n",
      "          [0.3000, 0.0000]]]])\n"
     ]
    }
   ],
   "source": [
    "# genrate torch ensor of shap 1, 1, 2, 2 full of zeros\n",
    "tensor = torch.zeros(1, 1, 2, 2)\n",
    "print(tensor)\n",
    "\n",
    "tensor[0, 0, 0, 0] = 0.1\n",
    "tensor[0, 0, 0, 1] = 0.2\n",
    "tensor[0, 0, 1, 0] = 0.3\n",
    "\n",
    "print(tensor)\n",
    "\n",
    "\n"
   ]
  },
  {
   "cell_type": "code",
   "execution_count": 6,
   "metadata": {},
   "outputs": [
    {
     "name": "stdout",
     "output_type": "stream",
     "text": [
      "Reconstructed image:  tensor([[0.0000, 0.0000, 0.0000, 0.1000],\n",
      "        [0.0000, 0.0000, 1.0000, 0.2000],\n",
      "        [0.0000, 1.0000, 0.0000, 0.3000],\n",
      "        [0.0000, 1.0000, 1.0000, 0.0000]])\n",
      "\n",
      "Target image:  tensor([[0.0000, 0.0000, 0.0000, 0.1000],\n",
      "        [0.0000, 0.0000, 1.0000, 0.2000],\n",
      "        [0.0000, 1.0000, 0.0000, 0.3000],\n",
      "        [0.0000, 1.0000, 1.0000, 0.0000]])\n"
     ]
    }
   ],
   "source": [
    "# runm twnsor through loss\n",
    "loss_fn = NEWESTACB3dloss2024(1, 2, 2)\n",
    "\n",
    "loss = loss_fn(tensor, tensor)\n"
   ]
  },
  {
   "cell_type": "code",
   "execution_count": null,
   "metadata": {},
   "outputs": [],
   "source": []
  }
 ],
 "metadata": {
  "kernelspec": {
   "display_name": "Python 3",
   "language": "python",
   "name": "python3"
  },
  "language_info": {
   "codemirror_mode": {
    "name": "ipython",
    "version": 3
   },
   "file_extension": ".py",
   "mimetype": "text/x-python",
   "name": "python",
   "nbconvert_exporter": "python",
   "pygments_lexer": "ipython3",
   "version": "3.10.9"
  }
 },
 "nbformat": 4,
 "nbformat_minor": 2
}
